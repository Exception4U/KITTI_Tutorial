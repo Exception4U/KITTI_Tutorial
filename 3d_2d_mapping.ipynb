{
 "cells": [
  {
   "cell_type": "code",
   "execution_count": 52,
   "metadata": {},
   "outputs": [
    {
     "name": "stdout",
     "output_type": "stream",
     "text": [
      "[ 0.49999984  0.49960184  0.49999984  0.50039816]\n",
      "Roll:  1.57079632679\n",
      "Pitch: -0.0\n",
      "Yaw:   1.57079632679\n"
     ]
    }
   ],
   "source": [
    "#!/usr/bin/env python\n",
    "import rospy, sys\n",
    "from std_msgs.msg import String\n",
    "import tf\n",
    "import numpy as np\n",
    "import cv2\n",
    "\n",
    "[x,y,z,w]=1,1,1,1\n",
    "quaternion = (x,y,z,w)\n",
    "\n",
    "euler = tf.transformations.euler_from_quaternion(quaternion)\n",
    "quat = tf.transformations.quaternion_from_euler(1.57,0,1.57)\n",
    "print quat\n",
    "roll = euler[0]\n",
    "pitch = euler[1]\n",
    "yaw = euler[2]\n",
    "\n",
    "print \"Roll:  \"+str(roll)\n",
    "print \"Pitch: \"+str(pitch)\n",
    "print \"Yaw:   \"+str(yaw)"
   ]
  },
  {
   "cell_type": "code",
   "execution_count": 49,
   "metadata": {},
   "outputs": [],
   "source": [
    "# ls /home/tushar/Downloads/Datasets/try_2/Yandex_Data/slam6DDat\n",
    "points_3d = []\n",
    "with open(\"/home/tushar/Downloads/Datasets/try_2/Yandex_Data/slam6DDat/scan000.3d\") as scan:\n",
    "    for line in scan:\n",
    "        points_3d.append([float(i) for i in line.split()])\n",
    "\n",
    "points_3d=np.array(points_3d)\n",
    "points_3d = points_3d[:,:3]"
   ]
  },
  {
   "cell_type": "code",
   "execution_count": 3,
   "metadata": {},
   "outputs": [],
   "source": []
  },
  {
   "cell_type": "code",
   "execution_count": 50,
   "metadata": {},
   "outputs": [
    {
     "data": {
      "text/plain": [
       "(45117, 3)"
      ]
     },
     "execution_count": 50,
     "metadata": {},
     "output_type": "execute_result"
    }
   ],
   "source": [
    "points_3d.shape"
   ]
  },
  {
   "cell_type": "code",
   "execution_count": 36,
   "metadata": {},
   "outputs": [
    {
     "data": {
      "text/plain": [
       "1080"
      ]
     },
     "execution_count": 36,
     "metadata": {},
     "output_type": "execute_result"
    }
   ],
   "source": [
    "image =  cv2.imread(\"/home/tushar/Downloads/Datasets/try_2/Yandex_Data/slam6DDat/scan000_center.jpeg\")\n",
    "len(image)\n",
    "# from IPython.display import Image\n",
    "# Image(\"/home/tushar/Downloads/Datasets/try_2/Yandex_Data/slam6DDat/scan000_center.jpeg\")"
   ]
  },
  {
   "cell_type": "code",
   "execution_count": 53,
   "metadata": {},
   "outputs": [],
   "source": [
    "#camera\n",
    "K = [1032.462842, 0.0, 653.03823, 0.0, 1019.154193, 565.644396, 0.0, 0.0, 1.0]\n",
    "\n",
    "    "
   ]
  },
  {
   "cell_type": "code",
   "execution_count": 54,
   "metadata": {},
   "outputs": [],
   "source": [
    "#transform velodyne_to_camera\n",
    "translation = [-0.017559,0.033034,-0.298409]\n",
    "rotation = [0.741396241526,0.0184214190141,0.0234637781524,-0.6704041434]\n"
   ]
  },
  {
   "cell_type": "code",
   "execution_count": 55,
   "metadata": {},
   "outputs": [
    {
     "name": "stdout",
     "output_type": "stream",
     "text": [
      "[[ 0.9982202   0.05877557  0.01009232  0.        ]\n",
      " [-0.00414529 -0.10043787  0.9949347   0.        ]\n",
      " [ 0.05949151 -0.99320575 -0.10001547  0.        ]\n",
      " [ 0.          0.          0.          1.        ]]\n"
     ]
    }
   ],
   "source": [
    "import math\n",
    "rot = tf.transformations.quaternion_matrix(rotation)\n",
    "# tf.transformations.projection_matrix([1,1,1],[0,0,1])\n",
    "print rot\n",
    "# tf.transformations.concatenate_matrices"
   ]
  },
  {
   "cell_type": "code",
   "execution_count": 56,
   "metadata": {},
   "outputs": [
    {
     "name": "stdout",
     "output_type": "stream",
     "text": [
      "[[ 1.        0.        0.       -0.017559]\n",
      " [ 0.        1.        0.        0.033034]\n",
      " [ 0.        0.        1.       -0.298409]\n",
      " [ 0.        0.        0.        1.      ]]\n"
     ]
    }
   ],
   "source": [
    "tr = tf.transformations.translation_matrix(translation)\n",
    "print tr"
   ]
  },
  {
   "cell_type": "code",
   "execution_count": 57,
   "metadata": {},
   "outputs": [
    {
     "data": {
      "text/plain": [
       "array([[ 0.9982202 ,  0.05877557,  0.01009232, -0.0185978 ],\n",
       "       [-0.00414529, -0.10043787,  0.9949347 , -0.30014255],\n",
       "       [ 0.05949151, -0.99320575, -0.10001547, -0.00400865],\n",
       "       [ 0.        ,  0.        ,  0.        ,  1.        ]])"
      ]
     },
     "execution_count": 57,
     "metadata": {},
     "output_type": "execute_result"
    }
   ],
   "source": [
    "#Return concatenation of series of transformation matrices.\n",
    "Tr_vel_to_camera = tf.transformations.concatenate_matrices(rot,tr)\n",
    "Tr_vel_to_camera"
   ]
  },
  {
   "cell_type": "code",
   "execution_count": 58,
   "metadata": {},
   "outputs": [],
   "source": [
    "#camera_projection matrix\n",
    "# print tf.transformations.projection_matrix([1,1,1],[1,2,1])\n",
    "P =  np.array([[651.724159, 0.0,        622.685313, 0.0], \n",
    "               [0.0,        642.208128, 534.920382, 0.0],\n",
    "               [0.0,        0.0,        1.0,        0.0]])\n"
   ]
  },
  {
   "cell_type": "code",
   "execution_count": 61,
   "metadata": {},
   "outputs": [],
   "source": [
    "lidar_3d = np.array([[0],[0],[0],[1]])\n",
    "im_projection = np.linalg.multi_dot([P,Tr_vel_to_camera,lidar_3d])\n",
    "u = im_projection[0]/im_projection[2]\n",
    "v = im_projection[1]/im_projection[2]\n"
   ]
  },
  {
   "cell_type": "code",
   "execution_count": 65,
   "metadata": {},
   "outputs": [
    {
     "ename": "SyntaxError",
     "evalue": "EOL while scanning string literal (<ipython-input-65-ab0571e74431>, line 1)",
     "output_type": "error",
     "traceback": [
      "\u001b[0;36m  File \u001b[0;32m\"<ipython-input-65-ab0571e74431>\"\u001b[0;36m, line \u001b[0;32m1\u001b[0m\n\u001b[0;31m    \"\"-1.46167627e+01\"%5f\u001b[0m\n\u001b[0m                        ^\u001b[0m\n\u001b[0;31mSyntaxError\u001b[0m\u001b[0;31m:\u001b[0m EOL while scanning string literal\n"
     ]
    }
   ],
   "source": []
  },
  {
   "cell_type": "code",
   "execution_count": 18,
   "metadata": {},
   "outputs": [
    {
     "data": {
      "text/plain": [
       "array([[  267.63 ,    28.615,   171.993],\n",
       "       [  308.074,   138.498,   177.145],\n",
       "       [  268.901,    36.389,   172.057],\n",
       "       ..., \n",
       "       [ 3077.186,   701.491,   702.876],\n",
       "       [  282.326,   136.061,   202.62 ],\n",
       "       [ 2883.386,   739.784,   666.437]])"
      ]
     },
     "execution_count": 18,
     "metadata": {},
     "output_type": "execute_result"
    }
   ],
   "source": [
    "points_3d"
   ]
  },
  {
   "cell_type": "code",
   "execution_count": 22,
   "metadata": {},
   "outputs": [],
   "source": [
    "mapping_3d_2d = []\n",
    "for i in points_3d:\n",
    "    pose = np.array([i[0],i[1],i[2],1])\n",
    "    im_projection = np.linalg.multi_dot([P,Tr_vel_to_camera,pose.transpose()])\n",
    "    u = im_projection[0]/im_projection[2]\n",
    "    v = im_projection[1]/im_projection[2]\n",
    "    mapping_3d_2d.append([i,[u,v]])"
   ]
  },
  {
   "cell_type": "code",
   "execution_count": 25,
   "metadata": {},
   "outputs": [],
   "source": [
    "np.savetxt(\"mapping_3d_2d.txt\", mapping_3d_2d,fmt='%6s')"
   ]
  },
  {
   "cell_type": "code",
   "execution_count": 46,
   "metadata": {},
   "outputs": [],
   "source": [
    "#filter points putside of image plane\n",
    "mapping_3d_2d_filtered=[]\n",
    "for i in mapping_3d_2d:\n",
    "    if abs(i[1][0])<=1080 and abs(-i[1][1])<=1280:\n",
    "        mapping_3d_2d_filtered.append(i)"
   ]
  },
  {
   "cell_type": "code",
   "execution_count": 47,
   "metadata": {},
   "outputs": [],
   "source": [
    "np.savetxt(\"mapping_3d_2d_filtered.txt\", mapping_3d_2d_filtered,fmt='%6s')"
   ]
  },
  {
   "cell_type": "code",
   "execution_count": 44,
   "metadata": {},
   "outputs": [],
   "source": [
    "from math import *"
   ]
  },
  {
   "cell_type": "code",
   "execution_count": 45,
   "metadata": {},
   "outputs": [
    {
     "data": {
      "text/plain": [
       "1"
      ]
     },
     "execution_count": 45,
     "metadata": {},
     "output_type": "execute_result"
    }
   ],
   "source": [
    "abs(-1)"
   ]
  },
  {
   "cell_type": "code",
   "execution_count": null,
   "metadata": {},
   "outputs": [],
   "source": []
  }
 ],
 "metadata": {
  "kernelspec": {
   "display_name": "Python 2",
   "language": "python",
   "name": "python2"
  },
  "language_info": {
   "codemirror_mode": {
    "name": "ipython",
    "version": 2
   },
   "file_extension": ".py",
   "mimetype": "text/x-python",
   "name": "python",
   "nbconvert_exporter": "python",
   "pygments_lexer": "ipython2",
   "version": "2.7.12"
  }
 },
 "nbformat": 4,
 "nbformat_minor": 2
}
