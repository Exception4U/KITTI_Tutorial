{
 "cells": [
  {
   "cell_type": "code",
   "execution_count": 1,
   "metadata": {},
   "outputs": [
    {
     "name": "stdout",
     "output_type": "stream",
     "text": [
      "loop1\n"
     ]
    },
    {
     "name": "stderr",
     "output_type": "stream",
     "text": [
      "[ERROR] [1522062639.219566]: bad callback: <bound method Subscriber.callback of <message_filters.Subscriber object at 0x7f7a918c7d10>>\n",
      "Traceback (most recent call last):\n",
      "  File \"/opt/ros/kinetic/lib/python2.7/dist-packages/rospy/topics.py\", line 750, in _invoke_callback\n",
      "    cb(msg)\n",
      "  File \"/opt/ros/kinetic/lib/python2.7/dist-packages/message_filters/__init__.py\", line 75, in callback\n",
      "    self.signalMessage(msg)\n",
      "  File \"/opt/ros/kinetic/lib/python2.7/dist-packages/message_filters/__init__.py\", line 57, in signalMessage\n",
      "    cb(*(msg + args))\n",
      "  File \"/opt/ros/kinetic/lib/python2.7/dist-packages/message_filters/__init__.py\", line 287, in add\n",
      "    self.signalMessage(*msgs)\n",
      "  File \"/opt/ros/kinetic/lib/python2.7/dist-packages/message_filters/__init__.py\", line 57, in signalMessage\n",
      "    cb(*(msg + args))\n",
      "  File \"<ipython-input-1-9a1debe084b1>\", line 57, in callback\n",
      "    points = pointcloud2_to_xyz_array(lidar)\n",
      "  File \"<ipython-input-1-9a1debe084b1>\", line 51, in pointcloud2_to_xyz_array\n",
      "    return get_xyz_points(pointcloud2_to_array(cloud_msg), remove_nans=remove_nans)\n",
      "  File \"<ipython-input-1-9a1debe084b1>\", line 19, in pointcloud2_to_array\n",
      "    dtype_list = pointcloud2_to_dtype(cloud_msg)\n",
      "NameError: global name 'pointcloud2_to_dtype' is not defined\n",
      "\n"
     ]
    }
   ],
   "source": [
    "#subscribe all needed topics\n",
    "\n",
    "import rospy\n",
    "from std_msgs.msg import String\n",
    "from sensor_msgs.msg import Image, CameraInfo, PointCloud2\n",
    "from cv_bridge import CvBridge, CvBridgeError\n",
    "import message_filters\n",
    "import numpy as np\n",
    "from python_msg_conversions import pointclouds\n",
    "\n",
    "\n",
    "\n",
    "def callback(l_image, camera_info, lidar):\n",
    "        try:    \n",
    "            bridge = CvBridge()\n",
    "            cv_image = bridge.imgmsg_to_cv2(l_image, \"bgr8\")\n",
    "            points = pointcloud2_to_xyz_array(lidar)\n",
    "        except CvBridgeError as e:\n",
    "            print(e)\n",
    "        points = pointcloud2_to_xyz_array(lidar)\n",
    "        \n",
    "\n",
    "\n",
    "def listener():\n",
    "        rospy.init_node('listener')\n",
    "        print \"loop1\"\n",
    "        l_image = message_filters.Subscriber(\"/kitti/camera_color_left/image_raw\", Image )\n",
    "        camera_info = message_filters.Subscriber(\"/kitti/camera_gray_left/camera_info\", CameraInfo)\n",
    "        lidar = message_filters.Subscriber(\"/kitti/velo/pointcloud\", PointCloud2)\n",
    "        ts = message_filters.ApproximateTimeSynchronizer([l_image, camera_info, lidar], 10, 0.1)\n",
    "        ts.registerCallback(callback)\n",
    "#         print \"loop1\"\n",
    "        rospy.spin()\n",
    "\n",
    "if __name__ == '__main__':\n",
    "        listener()\n"
   ]
  },
  {
   "cell_type": "code",
   "execution_count": null,
   "metadata": {},
   "outputs": [],
   "source": []
  }
 ],
 "metadata": {
  "kernelspec": {
   "display_name": "Python 2",
   "language": "python",
   "name": "python2"
  },
  "language_info": {
   "codemirror_mode": {
    "name": "ipython",
    "version": 2
   },
   "file_extension": ".py",
   "mimetype": "text/x-python",
   "name": "python",
   "nbconvert_exporter": "python",
   "pygments_lexer": "ipython2",
   "version": "2.7.12"
  }
 },
 "nbformat": 4,
 "nbformat_minor": 2
}
