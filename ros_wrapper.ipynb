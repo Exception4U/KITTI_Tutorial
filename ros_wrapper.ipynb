{
 "cells": [
  {
   "cell_type": "code",
   "execution_count": 1,
   "metadata": {},
   "outputs": [],
   "source": [
    "import rospy\n",
    "from std_msgs.msg import String\n",
    "from sensor_msgs.msg import Image, CameraInfo, PointCloud2\n",
    "from cv_bridge import CvBridge, CvBridgeError\n",
    "import message_filters\n",
    "import numpy as np\n",
    "from python_msg_conversions import pointclouds\n",
    "import cv2"
   ]
  },
  {
   "cell_type": "code",
   "execution_count": 2,
   "metadata": {},
   "outputs": [],
   "source": [
    "def depth_color(val, min_d=0, max_d=120):\n",
    "    \"\"\" \n",
    "    print Color(HSV's H value) corresponding to distance(m) \n",
    "    close distance = red , far distance = blue\n",
    "    \"\"\"\n",
    "    np.clip(val, 0, max_d, out=val) # max distance is 120m but usually not usual\n",
    "    return (((val - min_d) / (max_d - min_d)) * 120).astype(np.uint8) \n",
    "\n",
    "def in_h_range_points(points, m, n, fov):\n",
    "    \"\"\" extract horizontal in-range points \"\"\"\n",
    "    return np.logical_and(np.arctan2(n,m) > (-fov[1] * np.pi / 180), \\\n",
    "                          np.arctan2(n,m) < (-fov[0] * np.pi / 180))\n",
    "\n",
    "def in_v_range_points(points, m, n, fov):\n",
    "    \"\"\" extract vertical in-range points \"\"\"\n",
    "    return np.logical_and(np.arctan2(n,m) < (fov[1] * np.pi / 180), \\\n",
    "                          np.arctan2(n,m) > (fov[0] * np.pi / 180))\n",
    "\n",
    "def fov_setting(points, x, y, z, dist, h_fov, v_fov):\n",
    "    \"\"\" filter points based on h,v FOV  \"\"\"\n",
    "    \n",
    "    if h_fov[1] == 180 and h_fov[0] == -180 and v_fov[1] == 2.0 and v_fov[0] == -24.9:\n",
    "        return points\n",
    "    \n",
    "    if h_fov[1] == 180 and h_fov[0] == -180:\n",
    "        return points[in_v_range_points(points, dist, z, v_fov)]\n",
    "    elif v_fov[1] == 2.0 and v_fov[0] == -24.9:        \n",
    "        return points[in_h_range_points(points, x, y, h_fov)]\n",
    "    else:\n",
    "        h_points = in_h_range_points(points, x, y, h_fov)\n",
    "        v_points = in_v_range_points(points, dist, z, v_fov)\n",
    "        return points[np.logical_and(h_points, v_points)]\n",
    "\n",
    "def in_range_points(points, size):\n",
    "    \"\"\" extract in-range points \"\"\"\n",
    "    return np.logical_and(points > 0, points < size)    \n",
    "\n",
    "def velo_points_filter(points, v_fov, h_fov):\n",
    "    \"\"\" extract points corresponding to FOV setting \"\"\"\n",
    "    \n",
    "    # Projecting to 2D\n",
    "    x = points[:, 0]\n",
    "    y = points[:, 1]\n",
    "    z = points[:, 2]\n",
    "    dist = np.sqrt(x ** 2 + y ** 2 + z ** 2)\n",
    "\n",
    "    if h_fov[0] < -90:\n",
    "        h_fov = (-90,) + h_fov[1:]\n",
    "    if h_fov[1] > 90:\n",
    "        h_fov = h_fov[:1] + (90,)\n",
    "    \n",
    "    x_lim = fov_setting(x, x, y, z, dist, h_fov, v_fov)[:,None]\n",
    "    y_lim = fov_setting(y, x, y, z, dist, h_fov, v_fov)[:,None]\n",
    "    z_lim = fov_setting(z, x, y, z, dist, h_fov, v_fov)[:,None]\n",
    "\n",
    "    # Stack arrays in sequence horizontally\n",
    "    xyz_ = np.hstack((x_lim, y_lim, z_lim))\n",
    "    xyz_ = xyz_.T\n",
    "\n",
    "    # stack (1,n) arrays filled with the number 1\n",
    "    one_mat = np.full((1, xyz_.shape[1]), 1)\n",
    "    xyz_ = np.concatenate((xyz_, one_mat),axis = 0)\n",
    "\n",
    "    # need dist info for points color\n",
    "    dist_lim = fov_setting(dist, x, y, z, dist, h_fov, v_fov)\n",
    "    color = depth_color(dist_lim, 0, 70)\n",
    "    \n",
    "    return xyz_, color"
   ]
  },
  {
   "cell_type": "code",
   "execution_count": 3,
   "metadata": {},
   "outputs": [],
   "source": [
    "def calib_velo2cam(filepath):\n",
    "    \"\"\" \n",
    "    get Rotation(R : 3x3), Translation(T : 3x1) matrix info \n",
    "    using R,T matrix, we can convert velodyne coordinates to camera coordinates\n",
    "    \"\"\"\n",
    "    with open(filepath, \"r\") as f:\n",
    "        file = f.readlines()    \n",
    "        \n",
    "        for line in file:\n",
    "            (key, val) = line.split(':',1)\n",
    "            if key == 'R':\n",
    "                R = np.fromstring(val, sep=' ')\n",
    "                R = R.reshape(3, 3)\n",
    "            if key == 'T':\n",
    "                T = np.fromstring(val, sep=' ')\n",
    "                T = T.reshape(3, 1)\n",
    "    return R, T\n",
    "\n",
    "def calib_cam2cam(filepath, mode):\n",
    "    \"\"\"\n",
    "    If your image is 'rectified image' :\n",
    "        get only Projection(P : 3x4) matrix is enough\n",
    "    but if your image is 'distorted image'(not rectified image) :\n",
    "        you need undistortion step using distortion coefficients(5 : D)\n",
    "        \n",
    "    in this code, I'll get P matrix since I'm using rectified image\n",
    "    \"\"\"\n",
    "    with open(filepath, \"r\") as f:\n",
    "        file = f.readlines()\n",
    "        \n",
    "        for line in file:\n",
    "            (key, val) = line.split(':',1)\n",
    "            if key == ('P_rect_' + mode):\n",
    "                P_ = np.fromstring(val, sep=' ')\n",
    "                P_ = P_.reshape(3, 4)\n",
    "                # erase 4th column ([0,0,0])\n",
    "                P_ = P_[:3, :3]\n",
    "    return P_\n",
    "\n",
    "def velo3d_2_camera2d_points(points, v_fov, h_fov, vc_path, cc_path, mode='02'):\n",
    "    \"\"\" print velodyne 3D points corresponding to camera 2D image \"\"\"\n",
    "    \n",
    "    # R_vc = Rotation matrix ( velodyne -> camera )\n",
    "    # T_vc = Translation matrix ( velodyne -> camera )\n",
    "    R_vc, T_vc = vc_path\n",
    "    \n",
    "    # P_ = Projection matrix ( camera coordinates 3d points -> image plane 2d points )\n",
    "    P_ = cc_path\n",
    "\n",
    "    \"\"\"\n",
    "    xyz_v - 3D velodyne points corresponding to h, v FOV in the velodyne coordinates\n",
    "    c_    - color value(HSV's Hue) corresponding to distance(m)\n",
    "    \n",
    "             [x_1 , x_2 , .. ]\n",
    "    xyz_v =  [y_1 , y_2 , .. ]   \n",
    "             [z_1 , z_2 , .. ]\n",
    "             [ 1  ,  1  , .. ]\n",
    "    \"\"\"  \n",
    "    xyz_v, c_ = velo_points_filter(points, v_fov, h_fov)\n",
    "    \n",
    "    \"\"\"\n",
    "    RT_ - rotation matrix & translation matrix\n",
    "        ( velodyne coordinates -> camera coordinates )\n",
    "    \n",
    "            [r_11 , r_12 , r_13 , t_x ]\n",
    "    RT_  =  [r_21 , r_22 , r_23 , t_y ]   \n",
    "            [r_31 , r_32 , r_33 , t_z ]\n",
    "    \"\"\"\n",
    "    RT_ = np.concatenate((R_vc, T_vc),axis = 1)\n",
    "    \n",
    "    # convert velodyne coordinates(X_v, Y_v, Z_v) to camera coordinates(X_c, Y_c, Z_c) \n",
    "    for i in range(xyz_v.shape[1]):\n",
    "        xyz_v[:3,i] = np.matmul(RT_, xyz_v[:,i])\n",
    "        \n",
    "    \"\"\"\n",
    "    xyz_c - 3D velodyne points corresponding to h, v FOV in the camera coordinates\n",
    "             [x_1 , x_2 , .. ]\n",
    "    xyz_c =  [y_1 , y_2 , .. ]   \n",
    "             [z_1 , z_2 , .. ]\n",
    "    \"\"\" \n",
    "    xyz_c = np.delete(xyz_v, 3, axis=0)\n",
    "\n",
    "    # convert camera coordinates(X_c, Y_c, Z_c) image(pixel) coordinates(x,y) \n",
    "    for i in range(xyz_c.shape[1]):\n",
    "        xyz_c[:,i] = np.matmul(P_, xyz_c[:,i])    \n",
    "\n",
    "    \"\"\"\n",
    "    xy_i - 3D velodyne points corresponding to h, v FOV in the image(pixel) coordinates before scale adjustment\n",
    "    ans  - 3D velodyne points corresponding to h, v FOV in the image(pixel) coordinates\n",
    "             [s_1*x_1 , s_2*x_2 , .. ]\n",
    "    xy_i =   [s_1*y_1 , s_2*y_2 , .. ]        ans =   [x_1 , x_2 , .. ]  \n",
    "             [  s_1   ,   s_2   , .. ]                [y_1 , y_2 , .. ]\n",
    "    \"\"\"\n",
    "    xy_i = xyz_c[::]/xyz_c[::][2]\n",
    "    ans = np.delete(xy_i, 2, axis=0)\n",
    "    \n",
    "    \"\"\"\n",
    "    width = 1242\n",
    "    height = 375\n",
    "    w_range = in_range_points(ans[0], width)\n",
    "    h_range = in_range_points(ans[1], height)\n",
    "\n",
    "    ans_x = ans[0][np.logical_and(w_range,h_range)][:,None].T\n",
    "    ans_y = ans[1][np.logical_and(w_range,h_range)][:,None].T\n",
    "    c_ = c_[np.logical_and(w_range,h_range)]\n",
    "\n",
    "    ans = np.vstack((ans_x, ans_y))\n",
    "    \"\"\"\n",
    "    \n",
    "    return ans, c_"
   ]
  },
  {
   "cell_type": "code",
   "execution_count": 4,
   "metadata": {},
   "outputs": [],
   "source": [
    "def print_projection_plt(points, color, image):\n",
    "    \"\"\" project converted velodyne points into camera image \"\"\"\n",
    "    \n",
    "    hsv_image = cv2.cvtColor(image, cv2.COLOR_BGR2HSV)\n",
    "\n",
    "    for i in range(points.shape[1]):\n",
    "        cv2.circle(hsv_image, (np.int32(points[0][i]),np.int32(points[1][i])),2, (int(color[i]),255,255),-1)\n",
    "\n",
    "    return cv2.cvtColor(hsv_image, cv2.COLOR_HSV2RGB)"
   ]
  },
  {
   "cell_type": "code",
   "execution_count": null,
   "metadata": {
    "scrolled": true
   },
   "outputs": [
    {
     "name": "stderr",
     "output_type": "stream",
     "text": [
      "/usr/local/lib/python2.7/dist-packages/ipykernel_launcher.py:12: SyntaxWarning: The publisher should be created with an explicit keyword argument 'queue_size'. Please see http://wiki.ros.org/rospy/Overview/Publishers%20and%20Subscribers for more information.\n",
      "  if sys.path[0] == '':\n"
     ]
    },
    {
     "name": "stdout",
     "output_type": "stream",
     "text": [
      "loop1\n",
      "(123397, 3)\n"
     ]
    },
    {
     "name": "stderr",
     "output_type": "stream",
     "text": [
      "/usr/lib/python2.7/dist-packages/numpy/core/numeric.py:301: FutureWarning: in the future, full((1, 32005), 1) will return an array of dtype('int64')\n",
      "  format(shape, fill_value, array(fill_value).dtype), FutureWarning)\n"
     ]
    },
    {
     "name": "stdout",
     "output_type": "stream",
     "text": [
      "(32005, 2)\n",
      "(123683, 3)\n",
      "(32050, 2)\n",
      "(123783, 3)\n"
     ]
    },
    {
     "name": "stderr",
     "output_type": "stream",
     "text": [
      "/usr/lib/python2.7/dist-packages/numpy/core/numeric.py:301: FutureWarning: in the future, full((1, 32050), 1) will return an array of dtype('int64')\n",
      "  format(shape, fill_value, array(fill_value).dtype), FutureWarning)\n",
      "/usr/lib/python2.7/dist-packages/numpy/core/numeric.py:301: FutureWarning: in the future, full((1, 32088), 1) will return an array of dtype('int64')\n",
      "  format(shape, fill_value, array(fill_value).dtype), FutureWarning)\n"
     ]
    },
    {
     "name": "stdout",
     "output_type": "stream",
     "text": [
      "(32088, 2)\n",
      "(123699, 3)\n",
      "(32162, 2)\n",
      "(123586, 3)\n"
     ]
    },
    {
     "name": "stderr",
     "output_type": "stream",
     "text": [
      "/usr/lib/python2.7/dist-packages/numpy/core/numeric.py:301: FutureWarning: in the future, full((1, 32162), 1) will return an array of dtype('int64')\n",
      "  format(shape, fill_value, array(fill_value).dtype), FutureWarning)\n",
      "/usr/lib/python2.7/dist-packages/numpy/core/numeric.py:301: FutureWarning: in the future, full((1, 32099), 1) will return an array of dtype('int64')\n",
      "  format(shape, fill_value, array(fill_value).dtype), FutureWarning)\n"
     ]
    },
    {
     "name": "stdout",
     "output_type": "stream",
     "text": [
      "(32099, 2)\n",
      "(123388, 3)\n",
      "(32052, 2)\n",
      "(123367, 3)\n"
     ]
    },
    {
     "name": "stderr",
     "output_type": "stream",
     "text": [
      "/usr/lib/python2.7/dist-packages/numpy/core/numeric.py:301: FutureWarning: in the future, full((1, 32052), 1) will return an array of dtype('int64')\n",
      "  format(shape, fill_value, array(fill_value).dtype), FutureWarning)\n",
      "/usr/lib/python2.7/dist-packages/numpy/core/numeric.py:301: FutureWarning: in the future, full((1, 32058), 1) will return an array of dtype('int64')\n",
      "  format(shape, fill_value, array(fill_value).dtype), FutureWarning)\n"
     ]
    },
    {
     "name": "stdout",
     "output_type": "stream",
     "text": [
      "(32058, 2)\n",
      "(122996, 3)\n",
      "(32024, 2)\n",
      "(123411, 3)\n"
     ]
    },
    {
     "name": "stderr",
     "output_type": "stream",
     "text": [
      "/usr/lib/python2.7/dist-packages/numpy/core/numeric.py:301: FutureWarning: in the future, full((1, 32024), 1) will return an array of dtype('int64')\n",
      "  format(shape, fill_value, array(fill_value).dtype), FutureWarning)\n",
      "/usr/lib/python2.7/dist-packages/numpy/core/numeric.py:301: FutureWarning: in the future, full((1, 32060), 1) will return an array of dtype('int64')\n",
      "  format(shape, fill_value, array(fill_value).dtype), FutureWarning)\n"
     ]
    },
    {
     "name": "stdout",
     "output_type": "stream",
     "text": [
      "(32060, 2)\n",
      "(123257, 3)\n",
      "(32023, 2)\n",
      "(123223, 3)\n"
     ]
    },
    {
     "name": "stderr",
     "output_type": "stream",
     "text": [
      "/usr/lib/python2.7/dist-packages/numpy/core/numeric.py:301: FutureWarning: in the future, full((1, 32023), 1) will return an array of dtype('int64')\n",
      "  format(shape, fill_value, array(fill_value).dtype), FutureWarning)\n",
      "/usr/lib/python2.7/dist-packages/numpy/core/numeric.py:301: FutureWarning: in the future, full((1, 31965), 1) will return an array of dtype('int64')\n",
      "  format(shape, fill_value, array(fill_value).dtype), FutureWarning)\n"
     ]
    },
    {
     "name": "stdout",
     "output_type": "stream",
     "text": [
      "(31965, 2)\n",
      "(123334, 3)\n",
      "(31978, 2)\n",
      "(123316, 3)\n"
     ]
    },
    {
     "name": "stderr",
     "output_type": "stream",
     "text": [
      "/usr/lib/python2.7/dist-packages/numpy/core/numeric.py:301: FutureWarning: in the future, full((1, 31978), 1) will return an array of dtype('int64')\n",
      "  format(shape, fill_value, array(fill_value).dtype), FutureWarning)\n",
      "/usr/lib/python2.7/dist-packages/numpy/core/numeric.py:301: FutureWarning: in the future, full((1, 31964), 1) will return an array of dtype('int64')\n",
      "  format(shape, fill_value, array(fill_value).dtype), FutureWarning)\n"
     ]
    },
    {
     "name": "stdout",
     "output_type": "stream",
     "text": [
      "(31964, 2)\n",
      "(123343, 3)\n",
      "(32017, 2)\n",
      "(123103, 3)\n"
     ]
    },
    {
     "name": "stderr",
     "output_type": "stream",
     "text": [
      "/usr/lib/python2.7/dist-packages/numpy/core/numeric.py:301: FutureWarning: in the future, full((1, 32017), 1) will return an array of dtype('int64')\n",
      "  format(shape, fill_value, array(fill_value).dtype), FutureWarning)\n",
      "/usr/lib/python2.7/dist-packages/numpy/core/numeric.py:301: FutureWarning: in the future, full((1, 32021), 1) will return an array of dtype('int64')\n",
      "  format(shape, fill_value, array(fill_value).dtype), FutureWarning)\n"
     ]
    },
    {
     "name": "stdout",
     "output_type": "stream",
     "text": [
      "(32021, 2)\n",
      "(123001, 3)\n",
      "(32053, 2)\n",
      "(122634, 3)\n"
     ]
    },
    {
     "name": "stderr",
     "output_type": "stream",
     "text": [
      "/usr/lib/python2.7/dist-packages/numpy/core/numeric.py:301: FutureWarning: in the future, full((1, 32053), 1) will return an array of dtype('int64')\n",
      "  format(shape, fill_value, array(fill_value).dtype), FutureWarning)\n"
     ]
    },
    {
     "name": "stdout",
     "output_type": "stream",
     "text": [
      "(31978, 2)\n",
      "(122321, 3)\n",
      "(31999, 2)\n",
      "(122242, 3)\n"
     ]
    },
    {
     "name": "stderr",
     "output_type": "stream",
     "text": [
      "/usr/lib/python2.7/dist-packages/numpy/core/numeric.py:301: FutureWarning: in the future, full((1, 31999), 1) will return an array of dtype('int64')\n",
      "  format(shape, fill_value, array(fill_value).dtype), FutureWarning)\n",
      "/usr/lib/python2.7/dist-packages/numpy/core/numeric.py:301: FutureWarning: in the future, full((1, 31953), 1) will return an array of dtype('int64')\n",
      "  format(shape, fill_value, array(fill_value).dtype), FutureWarning)\n"
     ]
    },
    {
     "name": "stdout",
     "output_type": "stream",
     "text": [
      "(31953, 2)\n",
      "(122430, 3)\n",
      "(31995, 2)\n",
      "(122495, 3)\n"
     ]
    },
    {
     "name": "stderr",
     "output_type": "stream",
     "text": [
      "/usr/lib/python2.7/dist-packages/numpy/core/numeric.py:301: FutureWarning: in the future, full((1, 31995), 1) will return an array of dtype('int64')\n",
      "  format(shape, fill_value, array(fill_value).dtype), FutureWarning)\n",
      "/usr/lib/python2.7/dist-packages/numpy/core/numeric.py:301: FutureWarning: in the future, full((1, 32010), 1) will return an array of dtype('int64')\n",
      "  format(shape, fill_value, array(fill_value).dtype), FutureWarning)\n"
     ]
    },
    {
     "name": "stdout",
     "output_type": "stream",
     "text": [
      "(32010, 2)\n",
      "(122727, 3)\n",
      "(32087, 2)\n",
      "(122645, 3)\n"
     ]
    },
    {
     "name": "stderr",
     "output_type": "stream",
     "text": [
      "/usr/lib/python2.7/dist-packages/numpy/core/numeric.py:301: FutureWarning: in the future, full((1, 32087), 1) will return an array of dtype('int64')\n",
      "  format(shape, fill_value, array(fill_value).dtype), FutureWarning)\n",
      "/usr/lib/python2.7/dist-packages/numpy/core/numeric.py:301: FutureWarning: in the future, full((1, 32092), 1) will return an array of dtype('int64')\n",
      "  format(shape, fill_value, array(fill_value).dtype), FutureWarning)\n"
     ]
    },
    {
     "name": "stdout",
     "output_type": "stream",
     "text": [
      "(32092, 2)\n",
      "(122516, 3)\n",
      "(32062, 2)\n",
      "(122703, 3)\n"
     ]
    },
    {
     "name": "stderr",
     "output_type": "stream",
     "text": [
      "/usr/lib/python2.7/dist-packages/numpy/core/numeric.py:301: FutureWarning: in the future, full((1, 32062), 1) will return an array of dtype('int64')\n",
      "  format(shape, fill_value, array(fill_value).dtype), FutureWarning)\n"
     ]
    },
    {
     "name": "stdout",
     "output_type": "stream",
     "text": [
      "(32062, 2)\n",
      "(122873, 3)\n",
      "(32105, 2)\n",
      "(122377, 3)\n"
     ]
    },
    {
     "name": "stderr",
     "output_type": "stream",
     "text": [
      "/usr/lib/python2.7/dist-packages/numpy/core/numeric.py:301: FutureWarning: in the future, full((1, 32105), 1) will return an array of dtype('int64')\n",
      "  format(shape, fill_value, array(fill_value).dtype), FutureWarning)\n",
      "/usr/lib/python2.7/dist-packages/numpy/core/numeric.py:301: FutureWarning: in the future, full((1, 31718), 1) will return an array of dtype('int64')\n",
      "  format(shape, fill_value, array(fill_value).dtype), FutureWarning)\n"
     ]
    },
    {
     "name": "stdout",
     "output_type": "stream",
     "text": [
      "(31718, 2)\n",
      "(122952, 3)\n",
      "(32052, 2)\n",
      "(122705, 3)\n"
     ]
    },
    {
     "name": "stderr",
     "output_type": "stream",
     "text": [
      "/usr/lib/python2.7/dist-packages/numpy/core/numeric.py:301: FutureWarning: in the future, full((1, 32007), 1) will return an array of dtype('int64')\n",
      "  format(shape, fill_value, array(fill_value).dtype), FutureWarning)\n"
     ]
    },
    {
     "name": "stdout",
     "output_type": "stream",
     "text": [
      "(32007, 2)\n",
      "(122490, 3)\n",
      "(31978, 2)\n",
      "(122665, 3)\n"
     ]
    },
    {
     "name": "stderr",
     "output_type": "stream",
     "text": [
      "/usr/lib/python2.7/dist-packages/numpy/core/numeric.py:301: FutureWarning: in the future, full((1, 31996), 1) will return an array of dtype('int64')\n",
      "  format(shape, fill_value, array(fill_value).dtype), FutureWarning)\n"
     ]
    },
    {
     "name": "stdout",
     "output_type": "stream",
     "text": [
      "(31996, 2)\n",
      "(122610, 3)\n",
      "(31978, 2)\n",
      "(122426, 3)\n"
     ]
    },
    {
     "name": "stderr",
     "output_type": "stream",
     "text": [
      "/usr/lib/python2.7/dist-packages/numpy/core/numeric.py:301: FutureWarning: in the future, full((1, 31877), 1) will return an array of dtype('int64')\n",
      "  format(shape, fill_value, array(fill_value).dtype), FutureWarning)\n",
      "/usr/lib/python2.7/dist-packages/numpy/core/numeric.py:301: FutureWarning: in the future, full((1, 31923), 1) will return an array of dtype('int64')\n",
      "  format(shape, fill_value, array(fill_value).dtype), FutureWarning)\n"
     ]
    },
    {
     "name": "stdout",
     "output_type": "stream",
     "text": [
      "(31877, 2)\n",
      "(122476, 3)\n",
      "(31923, 2)\n",
      "(122084, 3)\n"
     ]
    },
    {
     "name": "stderr",
     "output_type": "stream",
     "text": [
      "/usr/lib/python2.7/dist-packages/numpy/core/numeric.py:301: FutureWarning: in the future, full((1, 31807), 1) will return an array of dtype('int64')\n",
      "  format(shape, fill_value, array(fill_value).dtype), FutureWarning)\n",
      "/usr/lib/python2.7/dist-packages/numpy/core/numeric.py:301: FutureWarning: in the future, full((1, 31820), 1) will return an array of dtype('int64')\n",
      "  format(shape, fill_value, array(fill_value).dtype), FutureWarning)\n"
     ]
    },
    {
     "name": "stdout",
     "output_type": "stream",
     "text": [
      "(31807, 2)\n",
      "(122595, 3)\n",
      "(31820, 2)\n",
      "(122499, 3)\n"
     ]
    },
    {
     "name": "stderr",
     "output_type": "stream",
     "text": [
      "/usr/lib/python2.7/dist-packages/numpy/core/numeric.py:301: FutureWarning: in the future, full((1, 31795), 1) will return an array of dtype('int64')\n",
      "  format(shape, fill_value, array(fill_value).dtype), FutureWarning)\n",
      "/usr/lib/python2.7/dist-packages/numpy/core/numeric.py:301: FutureWarning: in the future, full((1, 31737), 1) will return an array of dtype('int64')\n",
      "  format(shape, fill_value, array(fill_value).dtype), FutureWarning)\n"
     ]
    },
    {
     "name": "stdout",
     "output_type": "stream",
     "text": [
      "(31795, 2)\n",
      "(122676, 3)\n",
      "(31737, 2)\n",
      "(122882, 3)\n"
     ]
    },
    {
     "name": "stderr",
     "output_type": "stream",
     "text": [
      "/usr/lib/python2.7/dist-packages/numpy/core/numeric.py:301: FutureWarning: in the future, full((1, 31789), 1) will return an array of dtype('int64')\n",
      "  format(shape, fill_value, array(fill_value).dtype), FutureWarning)\n",
      "/usr/lib/python2.7/dist-packages/numpy/core/numeric.py:301: FutureWarning: in the future, full((1, 31738), 1) will return an array of dtype('int64')\n",
      "  format(shape, fill_value, array(fill_value).dtype), FutureWarning)\n"
     ]
    },
    {
     "name": "stdout",
     "output_type": "stream",
     "text": [
      "(31789, 2)\n",
      "(123015, 3)\n",
      "(31738, 2)\n",
      "(123236, 3)\n"
     ]
    },
    {
     "name": "stderr",
     "output_type": "stream",
     "text": [
      "/usr/lib/python2.7/dist-packages/numpy/core/numeric.py:301: FutureWarning: in the future, full((1, 31770), 1) will return an array of dtype('int64')\n",
      "  format(shape, fill_value, array(fill_value).dtype), FutureWarning)\n",
      "/usr/lib/python2.7/dist-packages/numpy/core/numeric.py:301: FutureWarning: in the future, full((1, 31773), 1) will return an array of dtype('int64')\n",
      "  format(shape, fill_value, array(fill_value).dtype), FutureWarning)\n"
     ]
    },
    {
     "name": "stdout",
     "output_type": "stream",
     "text": [
      "(31770, 2)\n",
      "(122942, 3)\n",
      "(31773, 2)\n",
      "(122834, 3)\n"
     ]
    },
    {
     "name": "stderr",
     "output_type": "stream",
     "text": [
      "/usr/lib/python2.7/dist-packages/numpy/core/numeric.py:301: FutureWarning: in the future, full((1, 31858), 1) will return an array of dtype('int64')\n",
      "  format(shape, fill_value, array(fill_value).dtype), FutureWarning)\n",
      "/usr/lib/python2.7/dist-packages/numpy/core/numeric.py:301: FutureWarning: in the future, full((1, 31847), 1) will return an array of dtype('int64')\n",
      "  format(shape, fill_value, array(fill_value).dtype), FutureWarning)\n"
     ]
    },
    {
     "name": "stdout",
     "output_type": "stream",
     "text": [
      "(31858, 2)\n",
      "(122803, 3)\n",
      "(31847, 2)\n",
      "(123113, 3)\n"
     ]
    },
    {
     "name": "stderr",
     "output_type": "stream",
     "text": [
      "/usr/lib/python2.7/dist-packages/numpy/core/numeric.py:301: FutureWarning: in the future, full((1, 31933), 1) will return an array of dtype('int64')\n",
      "  format(shape, fill_value, array(fill_value).dtype), FutureWarning)\n",
      "/usr/lib/python2.7/dist-packages/numpy/core/numeric.py:301: FutureWarning: in the future, full((1, 31901), 1) will return an array of dtype('int64')\n",
      "  format(shape, fill_value, array(fill_value).dtype), FutureWarning)\n"
     ]
    },
    {
     "name": "stdout",
     "output_type": "stream",
     "text": [
      "(31933, 2)\n",
      "(123072, 3)\n",
      "(31901, 2)\n",
      "(123178, 3)\n"
     ]
    },
    {
     "name": "stderr",
     "output_type": "stream",
     "text": [
      "/usr/lib/python2.7/dist-packages/numpy/core/numeric.py:301: FutureWarning: in the future, full((1, 31969), 1) will return an array of dtype('int64')\n",
      "  format(shape, fill_value, array(fill_value).dtype), FutureWarning)\n",
      "/usr/lib/python2.7/dist-packages/numpy/core/numeric.py:301: FutureWarning: in the future, full((1, 31954), 1) will return an array of dtype('int64')\n",
      "  format(shape, fill_value, array(fill_value).dtype), FutureWarning)\n"
     ]
    },
    {
     "name": "stdout",
     "output_type": "stream",
     "text": [
      "(31969, 2)\n",
      "(123357, 3)\n",
      "(31954, 2)\n",
      "(123709, 3)\n"
     ]
    },
    {
     "name": "stderr",
     "output_type": "stream",
     "text": [
      "/usr/lib/python2.7/dist-packages/numpy/core/numeric.py:301: FutureWarning: in the future, full((1, 31913), 1) will return an array of dtype('int64')\n",
      "  format(shape, fill_value, array(fill_value).dtype), FutureWarning)\n",
      "/usr/lib/python2.7/dist-packages/numpy/core/numeric.py:301: FutureWarning: in the future, full((1, 31883), 1) will return an array of dtype('int64')\n",
      "  format(shape, fill_value, array(fill_value).dtype), FutureWarning)\n"
     ]
    },
    {
     "name": "stdout",
     "output_type": "stream",
     "text": [
      "(31913, 2)\n",
      "(123772, 3)\n",
      "(31883, 2)\n",
      "(124122, 3)\n"
     ]
    },
    {
     "name": "stderr",
     "output_type": "stream",
     "text": [
      "/usr/lib/python2.7/dist-packages/numpy/core/numeric.py:301: FutureWarning: in the future, full((1, 31884), 1) will return an array of dtype('int64')\n",
      "  format(shape, fill_value, array(fill_value).dtype), FutureWarning)\n",
      "/usr/lib/python2.7/dist-packages/numpy/core/numeric.py:301: FutureWarning: in the future, full((1, 31843), 1) will return an array of dtype('int64')\n",
      "  format(shape, fill_value, array(fill_value).dtype), FutureWarning)\n"
     ]
    },
    {
     "name": "stdout",
     "output_type": "stream",
     "text": [
      "(31884, 2)\n",
      "(124048, 3)\n",
      "(31843, 2)\n",
      "(123902, 3)\n"
     ]
    },
    {
     "name": "stderr",
     "output_type": "stream",
     "text": [
      "/usr/lib/python2.7/dist-packages/numpy/core/numeric.py:301: FutureWarning: in the future, full((1, 31757), 1) will return an array of dtype('int64')\n",
      "  format(shape, fill_value, array(fill_value).dtype), FutureWarning)\n",
      "/usr/lib/python2.7/dist-packages/numpy/core/numeric.py:301: FutureWarning: in the future, full((1, 31730), 1) will return an array of dtype('int64')\n",
      "  format(shape, fill_value, array(fill_value).dtype), FutureWarning)\n"
     ]
    },
    {
     "name": "stdout",
     "output_type": "stream",
     "text": [
      "(31757, 2)\n",
      "(123801, 3)\n",
      "(31730, 2)\n",
      "(123660, 3)\n"
     ]
    },
    {
     "name": "stderr",
     "output_type": "stream",
     "text": [
      "/usr/lib/python2.7/dist-packages/numpy/core/numeric.py:301: FutureWarning: in the future, full((1, 31584), 1) will return an array of dtype('int64')\n",
      "  format(shape, fill_value, array(fill_value).dtype), FutureWarning)\n",
      "/usr/lib/python2.7/dist-packages/numpy/core/numeric.py:301: FutureWarning: in the future, full((1, 31433), 1) will return an array of dtype('int64')\n",
      "  format(shape, fill_value, array(fill_value).dtype), FutureWarning)\n"
     ]
    },
    {
     "name": "stdout",
     "output_type": "stream",
     "text": [
      "(31584, 2)\n",
      "(123871, 3)\n",
      "(31433, 2)\n",
      "(123838, 3)\n"
     ]
    },
    {
     "name": "stderr",
     "output_type": "stream",
     "text": [
      "/usr/lib/python2.7/dist-packages/numpy/core/numeric.py:301: FutureWarning: in the future, full((1, 31379), 1) will return an array of dtype('int64')\n",
      "  format(shape, fill_value, array(fill_value).dtype), FutureWarning)\n",
      "/usr/lib/python2.7/dist-packages/numpy/core/numeric.py:301: FutureWarning: in the future, full((1, 31245), 1) will return an array of dtype('int64')\n",
      "  format(shape, fill_value, array(fill_value).dtype), FutureWarning)\n"
     ]
    },
    {
     "name": "stdout",
     "output_type": "stream",
     "text": [
      "(31379, 2)\n",
      "(123925, 3)\n",
      "(31245, 2)\n",
      "(123983, 3)\n"
     ]
    },
    {
     "name": "stderr",
     "output_type": "stream",
     "text": [
      "/usr/lib/python2.7/dist-packages/numpy/core/numeric.py:301: FutureWarning: in the future, full((1, 31254), 1) will return an array of dtype('int64')\n",
      "  format(shape, fill_value, array(fill_value).dtype), FutureWarning)\n",
      "/usr/lib/python2.7/dist-packages/numpy/core/numeric.py:301: FutureWarning: in the future, full((1, 31108), 1) will return an array of dtype('int64')\n",
      "  format(shape, fill_value, array(fill_value).dtype), FutureWarning)\n"
     ]
    },
    {
     "name": "stdout",
     "output_type": "stream",
     "text": [
      "(31254, 2)\n",
      "(123526, 3)\n",
      "(31108, 2)\n",
      "(123659, 3)\n"
     ]
    },
    {
     "name": "stderr",
     "output_type": "stream",
     "text": [
      "/usr/lib/python2.7/dist-packages/numpy/core/numeric.py:301: FutureWarning: in the future, full((1, 31067), 1) will return an array of dtype('int64')\n",
      "  format(shape, fill_value, array(fill_value).dtype), FutureWarning)\n",
      "/usr/lib/python2.7/dist-packages/numpy/core/numeric.py:301: FutureWarning: in the future, full((1, 30895), 1) will return an array of dtype('int64')\n",
      "  format(shape, fill_value, array(fill_value).dtype), FutureWarning)\n"
     ]
    },
    {
     "name": "stdout",
     "output_type": "stream",
     "text": [
      "(31067, 2)\n",
      "(123467, 3)\n",
      "(30895, 2)\n",
      "(123409, 3)\n"
     ]
    },
    {
     "name": "stderr",
     "output_type": "stream",
     "text": [
      "/usr/lib/python2.7/dist-packages/numpy/core/numeric.py:301: FutureWarning: in the future, full((1, 30817), 1) will return an array of dtype('int64')\n",
      "  format(shape, fill_value, array(fill_value).dtype), FutureWarning)\n",
      "/usr/lib/python2.7/dist-packages/numpy/core/numeric.py:301: FutureWarning: in the future, full((1, 30682), 1) will return an array of dtype('int64')\n",
      "  format(shape, fill_value, array(fill_value).dtype), FutureWarning)\n"
     ]
    },
    {
     "name": "stdout",
     "output_type": "stream",
     "text": [
      "(30817, 2)\n",
      "(123158, 3)\n",
      "(30682, 2)\n",
      "(122898, 3)\n"
     ]
    },
    {
     "name": "stderr",
     "output_type": "stream",
     "text": [
      "/usr/lib/python2.7/dist-packages/numpy/core/numeric.py:301: FutureWarning: in the future, full((1, 30483), 1) will return an array of dtype('int64')\n",
      "  format(shape, fill_value, array(fill_value).dtype), FutureWarning)\n",
      "/usr/lib/python2.7/dist-packages/numpy/core/numeric.py:301: FutureWarning: in the future, full((1, 30411), 1) will return an array of dtype('int64')\n",
      "  format(shape, fill_value, array(fill_value).dtype), FutureWarning)\n"
     ]
    },
    {
     "name": "stdout",
     "output_type": "stream",
     "text": [
      "(30483, 2)\n",
      "(122813, 3)\n",
      "(30411, 2)\n",
      "(122470, 3)\n"
     ]
    },
    {
     "name": "stderr",
     "output_type": "stream",
     "text": [
      "/usr/lib/python2.7/dist-packages/numpy/core/numeric.py:301: FutureWarning: in the future, full((1, 30289), 1) will return an array of dtype('int64')\n",
      "  format(shape, fill_value, array(fill_value).dtype), FutureWarning)\n",
      "/usr/lib/python2.7/dist-packages/numpy/core/numeric.py:301: FutureWarning: in the future, full((1, 30249), 1) will return an array of dtype('int64')\n",
      "  format(shape, fill_value, array(fill_value).dtype), FutureWarning)\n"
     ]
    },
    {
     "name": "stdout",
     "output_type": "stream",
     "text": [
      "(30289, 2)\n",
      "(122319, 3)\n",
      "(30249, 2)\n",
      "(121869, 3)\n"
     ]
    },
    {
     "name": "stderr",
     "output_type": "stream",
     "text": [
      "/usr/lib/python2.7/dist-packages/numpy/core/numeric.py:301: FutureWarning: in the future, full((1, 30035), 1) will return an array of dtype('int64')\n",
      "  format(shape, fill_value, array(fill_value).dtype), FutureWarning)\n",
      "/usr/lib/python2.7/dist-packages/numpy/core/numeric.py:301: FutureWarning: in the future, full((1, 30097), 1) will return an array of dtype('int64')\n",
      "  format(shape, fill_value, array(fill_value).dtype), FutureWarning)\n"
     ]
    },
    {
     "name": "stdout",
     "output_type": "stream",
     "text": [
      "(30035, 2)\n",
      "(121519, 3)\n",
      "(30097, 2)\n",
      "(121173, 3)\n"
     ]
    },
    {
     "name": "stderr",
     "output_type": "stream",
     "text": [
      "/usr/lib/python2.7/dist-packages/numpy/core/numeric.py:301: FutureWarning: in the future, full((1, 30295), 1) will return an array of dtype('int64')\n",
      "  format(shape, fill_value, array(fill_value).dtype), FutureWarning)\n",
      "/usr/lib/python2.7/dist-packages/numpy/core/numeric.py:301: FutureWarning: in the future, full((1, 30442), 1) will return an array of dtype('int64')\n",
      "  format(shape, fill_value, array(fill_value).dtype), FutureWarning)\n"
     ]
    },
    {
     "name": "stdout",
     "output_type": "stream",
     "text": [
      "(30295, 2)\n",
      "(121210, 3)\n",
      "(30442, 2)\n",
      "(120825, 3)\n"
     ]
    },
    {
     "name": "stderr",
     "output_type": "stream",
     "text": [
      "/usr/lib/python2.7/dist-packages/numpy/core/numeric.py:301: FutureWarning: in the future, full((1, 31100), 1) will return an array of dtype('int64')\n",
      "  format(shape, fill_value, array(fill_value).dtype), FutureWarning)\n",
      "/usr/lib/python2.7/dist-packages/numpy/core/numeric.py:301: FutureWarning: in the future, full((1, 31054), 1) will return an array of dtype('int64')\n",
      "  format(shape, fill_value, array(fill_value).dtype), FutureWarning)\n"
     ]
    },
    {
     "name": "stdout",
     "output_type": "stream",
     "text": [
      "(31100, 2)\n",
      "(121220, 3)\n",
      "(31054, 2)\n",
      "(121283, 3)\n"
     ]
    },
    {
     "name": "stderr",
     "output_type": "stream",
     "text": [
      "/usr/lib/python2.7/dist-packages/numpy/core/numeric.py:301: FutureWarning: in the future, full((1, 30959), 1) will return an array of dtype('int64')\n",
      "  format(shape, fill_value, array(fill_value).dtype), FutureWarning)\n",
      "/usr/lib/python2.7/dist-packages/numpy/core/numeric.py:301: FutureWarning: in the future, full((1, 30623), 1) will return an array of dtype('int64')\n",
      "  format(shape, fill_value, array(fill_value).dtype), FutureWarning)\n"
     ]
    },
    {
     "name": "stdout",
     "output_type": "stream",
     "text": [
      "(30959, 2)\n",
      "(121649, 3)\n",
      "(30623, 2)\n",
      "(121691, 3)\n"
     ]
    },
    {
     "name": "stderr",
     "output_type": "stream",
     "text": [
      "/usr/lib/python2.7/dist-packages/numpy/core/numeric.py:301: FutureWarning: in the future, full((1, 30485), 1) will return an array of dtype('int64')\n",
      "  format(shape, fill_value, array(fill_value).dtype), FutureWarning)\n",
      "/usr/lib/python2.7/dist-packages/numpy/core/numeric.py:301: FutureWarning: in the future, full((1, 30643), 1) will return an array of dtype('int64')\n",
      "  format(shape, fill_value, array(fill_value).dtype), FutureWarning)\n"
     ]
    },
    {
     "name": "stdout",
     "output_type": "stream",
     "text": [
      "(30485, 2)\n",
      "(121482, 3)\n",
      "(30643, 2)\n",
      "(120873, 3)\n"
     ]
    },
    {
     "name": "stderr",
     "output_type": "stream",
     "text": [
      "/usr/lib/python2.7/dist-packages/numpy/core/numeric.py:301: FutureWarning: in the future, full((1, 30807), 1) will return an array of dtype('int64')\n",
      "  format(shape, fill_value, array(fill_value).dtype), FutureWarning)\n"
     ]
    },
    {
     "name": "stdout",
     "output_type": "stream",
     "text": [
      "(30807, 2)\n",
      "(120271, 3)\n",
      "(30959, 2)\n",
      "(119588, 3)\n"
     ]
    },
    {
     "name": "stderr",
     "output_type": "stream",
     "text": [
      "/usr/lib/python2.7/dist-packages/numpy/core/numeric.py:301: FutureWarning: in the future, full((1, 31242), 1) will return an array of dtype('int64')\n",
      "  format(shape, fill_value, array(fill_value).dtype), FutureWarning)\n",
      "/usr/lib/python2.7/dist-packages/numpy/core/numeric.py:301: FutureWarning: in the future, full((1, 31252), 1) will return an array of dtype('int64')\n",
      "  format(shape, fill_value, array(fill_value).dtype), FutureWarning)\n"
     ]
    },
    {
     "name": "stdout",
     "output_type": "stream",
     "text": [
      "(31242, 2)\n",
      "(118950, 3)\n",
      "(31252, 2)\n",
      "(118371, 3)\n"
     ]
    },
    {
     "name": "stderr",
     "output_type": "stream",
     "text": [
      "/usr/lib/python2.7/dist-packages/numpy/core/numeric.py:301: FutureWarning: in the future, full((1, 31216), 1) will return an array of dtype('int64')\n",
      "  format(shape, fill_value, array(fill_value).dtype), FutureWarning)\n",
      "/usr/lib/python2.7/dist-packages/numpy/core/numeric.py:301: FutureWarning: in the future, full((1, 31109), 1) will return an array of dtype('int64')\n",
      "  format(shape, fill_value, array(fill_value).dtype), FutureWarning)\n"
     ]
    },
    {
     "name": "stdout",
     "output_type": "stream",
     "text": [
      "(31216, 2)\n",
      "(118494, 3)\n",
      "(31109, 2)\n",
      "(118765, 3)\n"
     ]
    },
    {
     "name": "stderr",
     "output_type": "stream",
     "text": [
      "/usr/lib/python2.7/dist-packages/numpy/core/numeric.py:301: FutureWarning: in the future, full((1, 31016), 1) will return an array of dtype('int64')\n",
      "  format(shape, fill_value, array(fill_value).dtype), FutureWarning)\n",
      "/usr/lib/python2.7/dist-packages/numpy/core/numeric.py:301: FutureWarning: in the future, full((1, 30902), 1) will return an array of dtype('int64')\n",
      "  format(shape, fill_value, array(fill_value).dtype), FutureWarning)\n"
     ]
    },
    {
     "name": "stdout",
     "output_type": "stream",
     "text": [
      "(31016, 2)\n",
      "(119092, 3)\n",
      "(30902, 2)\n",
      "(119602, 3)\n"
     ]
    },
    {
     "name": "stderr",
     "output_type": "stream",
     "text": [
      "/usr/lib/python2.7/dist-packages/numpy/core/numeric.py:301: FutureWarning: in the future, full((1, 30715), 1) will return an array of dtype('int64')\n",
      "  format(shape, fill_value, array(fill_value).dtype), FutureWarning)\n",
      "/usr/lib/python2.7/dist-packages/numpy/core/numeric.py:301: FutureWarning: in the future, full((1, 30575), 1) will return an array of dtype('int64')\n",
      "  format(shape, fill_value, array(fill_value).dtype), FutureWarning)\n"
     ]
    },
    {
     "name": "stdout",
     "output_type": "stream",
     "text": [
      "(30715, 2)\n",
      "(119828, 3)\n",
      "(30575, 2)\n",
      "(120163, 3)\n"
     ]
    },
    {
     "name": "stderr",
     "output_type": "stream",
     "text": [
      "/usr/lib/python2.7/dist-packages/numpy/core/numeric.py:301: FutureWarning: in the future, full((1, 30400), 1) will return an array of dtype('int64')\n",
      "  format(shape, fill_value, array(fill_value).dtype), FutureWarning)\n",
      "/usr/lib/python2.7/dist-packages/numpy/core/numeric.py:301: FutureWarning: in the future, full((1, 30221), 1) will return an array of dtype('int64')\n",
      "  format(shape, fill_value, array(fill_value).dtype), FutureWarning)\n"
     ]
    },
    {
     "name": "stdout",
     "output_type": "stream",
     "text": [
      "(30400, 2)\n",
      "(120212, 3)\n",
      "(30221, 2)\n",
      "(119597, 3)\n"
     ]
    },
    {
     "name": "stderr",
     "output_type": "stream",
     "text": [
      "/usr/lib/python2.7/dist-packages/numpy/core/numeric.py:301: FutureWarning: in the future, full((1, 29365), 1) will return an array of dtype('int64')\n",
      "  format(shape, fill_value, array(fill_value).dtype), FutureWarning)\n",
      "/usr/lib/python2.7/dist-packages/numpy/core/numeric.py:301: FutureWarning: in the future, full((1, 28562), 1) will return an array of dtype('int64')\n",
      "  format(shape, fill_value, array(fill_value).dtype), FutureWarning)\n"
     ]
    },
    {
     "name": "stdout",
     "output_type": "stream",
     "text": [
      "(29365, 2)\n",
      "(118846, 3)\n",
      "(28562, 2)\n",
      "(118423, 3)\n"
     ]
    },
    {
     "name": "stderr",
     "output_type": "stream",
     "text": [
      "/usr/lib/python2.7/dist-packages/numpy/core/numeric.py:301: FutureWarning: in the future, full((1, 28416), 1) will return an array of dtype('int64')\n",
      "  format(shape, fill_value, array(fill_value).dtype), FutureWarning)\n",
      "/usr/lib/python2.7/dist-packages/numpy/core/numeric.py:301: FutureWarning: in the future, full((1, 29000), 1) will return an array of dtype('int64')\n",
      "  format(shape, fill_value, array(fill_value).dtype), FutureWarning)\n"
     ]
    },
    {
     "name": "stdout",
     "output_type": "stream",
     "text": [
      "(28416, 2)\n",
      "(117093, 3)\n",
      "(29000, 2)\n",
      "(116104, 3)\n"
     ]
    },
    {
     "name": "stderr",
     "output_type": "stream",
     "text": [
      "/usr/lib/python2.7/dist-packages/numpy/core/numeric.py:301: FutureWarning: in the future, full((1, 28638), 1) will return an array of dtype('int64')\n",
      "  format(shape, fill_value, array(fill_value).dtype), FutureWarning)\n",
      "/usr/lib/python2.7/dist-packages/numpy/core/numeric.py:301: FutureWarning: in the future, full((1, 28154), 1) will return an array of dtype('int64')\n",
      "  format(shape, fill_value, array(fill_value).dtype), FutureWarning)\n"
     ]
    },
    {
     "name": "stdout",
     "output_type": "stream",
     "text": [
      "(28638, 2)\n",
      "(115750, 3)\n",
      "(28154, 2)\n",
      "(115623, 3)\n"
     ]
    },
    {
     "name": "stderr",
     "output_type": "stream",
     "text": [
      "/usr/lib/python2.7/dist-packages/numpy/core/numeric.py:301: FutureWarning: in the future, full((1, 27910), 1) will return an array of dtype('int64')\n",
      "  format(shape, fill_value, array(fill_value).dtype), FutureWarning)\n",
      "/usr/lib/python2.7/dist-packages/numpy/core/numeric.py:301: FutureWarning: in the future, full((1, 27879), 1) will return an array of dtype('int64')\n",
      "  format(shape, fill_value, array(fill_value).dtype), FutureWarning)\n"
     ]
    },
    {
     "name": "stdout",
     "output_type": "stream",
     "text": [
      "(27910, 2)\n",
      "(115743, 3)\n",
      "(27879, 2)\n",
      "(115839, 3)\n"
     ]
    },
    {
     "name": "stderr",
     "output_type": "stream",
     "text": [
      "/usr/lib/python2.7/dist-packages/numpy/core/numeric.py:301: FutureWarning: in the future, full((1, 27956), 1) will return an array of dtype('int64')\n",
      "  format(shape, fill_value, array(fill_value).dtype), FutureWarning)\n",
      "/usr/lib/python2.7/dist-packages/numpy/core/numeric.py:301: FutureWarning: in the future, full((1, 28191), 1) will return an array of dtype('int64')\n",
      "  format(shape, fill_value, array(fill_value).dtype), FutureWarning)\n"
     ]
    },
    {
     "name": "stdout",
     "output_type": "stream",
     "text": [
      "(27956, 2)\n",
      "(115781, 3)\n",
      "(28191, 2)\n",
      "(123397, 3)\n",
      "(32005, 2)\n",
      "(123683, 3)\n",
      "(32050, 2)\n",
      "(123783, 3)\n",
      "(32088, 2)\n",
      "(123699, 3)\n",
      "(32162, 2)\n",
      "(123586, 3)\n",
      "(32099, 2)\n",
      "(123388, 3)\n",
      "(32052, 2)\n",
      "(123367, 3)\n",
      "(32058, 2)\n",
      "(122996, 3)\n",
      "(32024, 2)\n",
      "(123411, 3)\n",
      "(32060, 2)\n",
      "(123257, 3)\n",
      "(32023, 2)\n",
      "(123223, 3)\n",
      "(31965, 2)\n",
      "(123316, 3)\n",
      "(31964, 2)\n",
      "(123343, 3)\n",
      "(32017, 2)\n",
      "(123103, 3)\n",
      "(32021, 2)\n",
      "(123001, 3)\n",
      "(32053, 2)\n",
      "(122753, 3)\n"
     ]
    },
    {
     "name": "stderr",
     "output_type": "stream",
     "text": [
      "/usr/lib/python2.7/dist-packages/numpy/core/numeric.py:301: FutureWarning: in the future, full((1, 31987), 1) will return an array of dtype('int64')\n",
      "  format(shape, fill_value, array(fill_value).dtype), FutureWarning)\n",
      "/usr/lib/python2.7/dist-packages/numpy/core/numeric.py:301: FutureWarning: in the future, full((1, 32030), 1) will return an array of dtype('int64')\n",
      "  format(shape, fill_value, array(fill_value).dtype), FutureWarning)\n"
     ]
    },
    {
     "name": "stdout",
     "output_type": "stream",
     "text": [
      "(31987, 2)\n",
      "(122477, 3)\n",
      "(32030, 2)\n",
      "(122242, 3)\n",
      "(31953, 2)\n",
      "(122309, 3)\n",
      "(31996, 2)\n",
      "(122495, 3)\n",
      "(32010, 2)\n",
      "(122527, 3)\n",
      "(32038, 2)\n",
      "(122658, 3)\n"
     ]
    },
    {
     "name": "stderr",
     "output_type": "stream",
     "text": [
      "/usr/lib/python2.7/dist-packages/numpy/core/numeric.py:301: FutureWarning: in the future, full((1, 32038), 1) will return an array of dtype('int64')\n",
      "  format(shape, fill_value, array(fill_value).dtype), FutureWarning)\n",
      "/usr/lib/python2.7/dist-packages/numpy/core/numeric.py:301: FutureWarning: in the future, full((1, 32107), 1) will return an array of dtype('int64')\n",
      "  format(shape, fill_value, array(fill_value).dtype), FutureWarning)\n"
     ]
    },
    {
     "name": "stdout",
     "output_type": "stream",
     "text": [
      "(32107, 2)\n",
      "(122516, 3)\n",
      "(32062, 2)\n",
      "(122723, 3)\n"
     ]
    },
    {
     "name": "stderr",
     "output_type": "stream",
     "text": [
      "/usr/lib/python2.7/dist-packages/numpy/core/numeric.py:301: FutureWarning: in the future, full((1, 32131), 1) will return an array of dtype('int64')\n",
      "  format(shape, fill_value, array(fill_value).dtype), FutureWarning)\n",
      "/usr/lib/python2.7/dist-packages/numpy/core/numeric.py:301: FutureWarning: in the future, full((1, 32096), 1) will return an array of dtype('int64')\n",
      "  format(shape, fill_value, array(fill_value).dtype), FutureWarning)\n"
     ]
    },
    {
     "name": "stdout",
     "output_type": "stream",
     "text": [
      "(32131, 2)\n",
      "(122905, 3)\n",
      "(32096, 2)\n",
      "(122654, 3)\n",
      "(32092, 2)\n",
      "(122377, 3)\n",
      "(31718, 2)\n",
      "(122838, 3)\n",
      "(32060, 2)\n",
      "(122691, 3)\n",
      "(31981, 2)\n",
      "(122490, 3)\n"
     ]
    },
    {
     "name": "stderr",
     "output_type": "stream",
     "text": [
      "/usr/lib/python2.7/dist-packages/numpy/core/numeric.py:301: FutureWarning: in the future, full((1, 31981), 1) will return an array of dtype('int64')\n",
      "  format(shape, fill_value, array(fill_value).dtype), FutureWarning)\n"
     ]
    },
    {
     "name": "stdout",
     "output_type": "stream",
     "text": [
      "(31978, 2)\n",
      "(122578, 3)\n",
      "(32022, 2)\n",
      "(122610, 3)\n"
     ]
    },
    {
     "name": "stderr",
     "output_type": "stream",
     "text": [
      "/usr/lib/python2.7/dist-packages/numpy/core/numeric.py:301: FutureWarning: in the future, full((1, 32022), 1) will return an array of dtype('int64')\n",
      "  format(shape, fill_value, array(fill_value).dtype), FutureWarning)\n"
     ]
    },
    {
     "name": "stdout",
     "output_type": "stream",
     "text": [
      "(31978, 2)\n",
      "(122426, 3)\n",
      "(31877, 2)\n",
      "(122467, 3)\n"
     ]
    },
    {
     "name": "stderr",
     "output_type": "stream",
     "text": [
      "/usr/lib/python2.7/dist-packages/numpy/core/numeric.py:301: FutureWarning: in the future, full((1, 31888), 1) will return an array of dtype('int64')\n",
      "  format(shape, fill_value, array(fill_value).dtype), FutureWarning)\n"
     ]
    },
    {
     "name": "stdout",
     "output_type": "stream",
     "text": [
      "(31888, 2)\n",
      "(122084, 3)\n",
      "(31807, 2)\n",
      "(122595, 3)\n",
      "(31820, 2)\n",
      "(122648, 3)\n"
     ]
    },
    {
     "name": "stderr",
     "output_type": "stream",
     "text": [
      "/usr/lib/python2.7/dist-packages/numpy/core/numeric.py:301: FutureWarning: in the future, full((1, 31744), 1) will return an array of dtype('int64')\n",
      "  format(shape, fill_value, array(fill_value).dtype), FutureWarning)\n"
     ]
    },
    {
     "name": "stdout",
     "output_type": "stream",
     "text": [
      "(31744, 2)\n",
      "(122882, 3)\n",
      "(31789, 2)\n",
      "(123015, 3)\n",
      "(31738, 2)\n",
      "(123236, 3)\n",
      "(31770, 2)\n",
      "(122805, 3)\n",
      "(31809, 2)\n",
      "(122834, 3)\n"
     ]
    },
    {
     "name": "stderr",
     "output_type": "stream",
     "text": [
      "/usr/lib/python2.7/dist-packages/numpy/core/numeric.py:301: FutureWarning: in the future, full((1, 31809), 1) will return an array of dtype('int64')\n",
      "  format(shape, fill_value, array(fill_value).dtype), FutureWarning)\n"
     ]
    },
    {
     "name": "stdout",
     "output_type": "stream",
     "text": [
      "(31858, 2)\n",
      "(122836, 3)\n",
      "(31865, 2)\n",
      "(123246, 3)\n"
     ]
    },
    {
     "name": "stderr",
     "output_type": "stream",
     "text": [
      "/usr/lib/python2.7/dist-packages/numpy/core/numeric.py:301: FutureWarning: in the future, full((1, 31865), 1) will return an array of dtype('int64')\n",
      "  format(shape, fill_value, array(fill_value).dtype), FutureWarning)\n",
      "/usr/lib/python2.7/dist-packages/numpy/core/numeric.py:301: FutureWarning: in the future, full((1, 31967), 1) will return an array of dtype('int64')\n",
      "  format(shape, fill_value, array(fill_value).dtype), FutureWarning)\n"
     ]
    },
    {
     "name": "stdout",
     "output_type": "stream",
     "text": [
      "(31967, 2)\n",
      "(123072, 3)\n",
      "(31901, 2)\n",
      "(123138, 3)\n",
      "(31965, 2)\n",
      "(123357, 3)\n",
      "(31954, 2)\n",
      "(123709, 3)\n",
      "(31913, 2)\n",
      "(124095, 3)\n",
      "(31860, 2)\n",
      "(124122, 3)\n"
     ]
    },
    {
     "name": "stderr",
     "output_type": "stream",
     "text": [
      "/usr/lib/python2.7/dist-packages/numpy/core/numeric.py:301: FutureWarning: in the future, full((1, 31860), 1) will return an array of dtype('int64')\n",
      "  format(shape, fill_value, array(fill_value).dtype), FutureWarning)\n"
     ]
    },
    {
     "name": "stdout",
     "output_type": "stream",
     "text": [
      "(31884, 2)\n",
      "(124048, 3)\n",
      "(31843, 2)\n",
      "(123902, 3)\n",
      "(31757, 2)\n",
      "(123801, 3)\n",
      "(31730, 2)\n",
      "(123704, 3)\n"
     ]
    },
    {
     "name": "stderr",
     "output_type": "stream",
     "text": [
      "/usr/lib/python2.7/dist-packages/numpy/core/numeric.py:301: FutureWarning: in the future, full((1, 31500), 1) will return an array of dtype('int64')\n",
      "  format(shape, fill_value, array(fill_value).dtype), FutureWarning)\n"
     ]
    },
    {
     "name": "stdout",
     "output_type": "stream",
     "text": [
      "(31500, 2)\n",
      "(123871, 3)\n",
      "(31433, 2)\n",
      "(123838, 3)\n",
      "(31379, 2)\n",
      "(123996, 3)\n",
      "(31335, 2)\n",
      "(123983, 3)\n"
     ]
    },
    {
     "name": "stderr",
     "output_type": "stream",
     "text": [
      "/usr/lib/python2.7/dist-packages/numpy/core/numeric.py:301: FutureWarning: in the future, full((1, 31335), 1) will return an array of dtype('int64')\n",
      "  format(shape, fill_value, array(fill_value).dtype), FutureWarning)\n"
     ]
    },
    {
     "name": "stdout",
     "output_type": "stream",
     "text": [
      "(31254, 2)\n",
      "(123526, 3)\n",
      "(31108, 2)\n",
      "(123659, 3)\n",
      "(31067, 2)\n",
      "(123467, 3)\n",
      "(30895, 2)\n",
      "(123409, 3)\n",
      "(30817, 2)\n",
      "(123158, 3)\n",
      "(30682, 2)\n",
      "(123008, 3)\n",
      "(30483, 2)\n",
      "(122813, 3)\n",
      "(30411, 2)\n",
      "(122470, 3)\n",
      "(30289, 2)\n",
      "(122319, 3)\n",
      "(30249, 2)\n",
      "(121869, 3)\n",
      "(30035, 2)\n",
      "(121519, 3)\n",
      "(30097, 2)\n",
      "(121173, 3)\n",
      "(30295, 2)\n",
      "(121210, 3)\n",
      "(30442, 2)\n",
      "(120825, 3)\n",
      "(31100, 2)\n",
      "(120989, 3)\n",
      "(31123, 2)\n",
      "(121283, 3)\n"
     ]
    },
    {
     "name": "stderr",
     "output_type": "stream",
     "text": [
      "/usr/lib/python2.7/dist-packages/numpy/core/numeric.py:301: FutureWarning: in the future, full((1, 31123), 1) will return an array of dtype('int64')\n",
      "  format(shape, fill_value, array(fill_value).dtype), FutureWarning)\n"
     ]
    },
    {
     "name": "stdout",
     "output_type": "stream",
     "text": [
      "(30959, 2)\n",
      "(121649, 3)\n",
      "(30623, 2)\n",
      "(121691, 3)\n",
      "(30485, 2)\n",
      "(121482, 3)\n",
      "(30643, 2)\n",
      "(118451, 3)\n"
     ]
    },
    {
     "name": "stderr",
     "output_type": "stream",
     "text": [
      "/usr/lib/python2.7/dist-packages/numpy/core/numeric.py:301: FutureWarning: in the future, full((1, 31202), 1) will return an array of dtype('int64')\n",
      "  format(shape, fill_value, array(fill_value).dtype), FutureWarning)\n"
     ]
    },
    {
     "name": "stdout",
     "output_type": "stream",
     "text": [
      "(31202, 2)\n",
      "(120271, 3)\n",
      "(30959, 2)\n"
     ]
    },
    {
     "name": "stderr",
     "output_type": "stream",
     "text": [
      "/usr/lib/python2.7/dist-packages/numpy/core/numeric.py:301: FutureWarning: in the future, full((1, 31127), 1) will return an array of dtype('int64')\n",
      "  format(shape, fill_value, array(fill_value).dtype), FutureWarning)\n",
      "/usr/lib/python2.7/dist-packages/numpy/core/numeric.py:301: FutureWarning: in the future, full((1, 30986), 1) will return an array of dtype('int64')\n",
      "  format(shape, fill_value, array(fill_value).dtype), FutureWarning)\n"
     ]
    },
    {
     "name": "stdout",
     "output_type": "stream",
     "text": [
      "(120052, 3)\n",
      "(31127, 2)\n",
      "(118930, 3)\n",
      "(30986, 2)\n",
      "(119349, 3)\n",
      "(30796, 2)\n",
      "(120049, 3)\n"
     ]
    },
    {
     "name": "stderr",
     "output_type": "stream",
     "text": [
      "/usr/lib/python2.7/dist-packages/numpy/core/numeric.py:301: FutureWarning: in the future, full((1, 30796), 1) will return an array of dtype('int64')\n",
      "  format(shape, fill_value, array(fill_value).dtype), FutureWarning)\n",
      "/usr/lib/python2.7/dist-packages/numpy/core/numeric.py:301: FutureWarning: in the future, full((1, 30523), 1) will return an array of dtype('int64')\n",
      "  format(shape, fill_value, array(fill_value).dtype), FutureWarning)\n"
     ]
    },
    {
     "name": "stdout",
     "output_type": "stream",
     "text": [
      "(30523, 2)\n",
      "(118572, 3)\n",
      "(31214, 2)\n",
      "(120067, 3)\n"
     ]
    },
    {
     "name": "stderr",
     "output_type": "stream",
     "text": [
      "/usr/lib/python2.7/dist-packages/numpy/core/numeric.py:301: FutureWarning: in the future, full((1, 31214), 1) will return an array of dtype('int64')\n",
      "  format(shape, fill_value, array(fill_value).dtype), FutureWarning)\n",
      "/usr/lib/python2.7/dist-packages/numpy/core/numeric.py:301: FutureWarning: in the future, full((1, 29892), 1) will return an array of dtype('int64')\n",
      "  format(shape, fill_value, array(fill_value).dtype), FutureWarning)\n"
     ]
    },
    {
     "name": "stdout",
     "output_type": "stream",
     "text": [
      "(29892, 2)\n",
      "(119418, 3)\n",
      "(28977, 2)\n",
      "(119349, 3)\n"
     ]
    },
    {
     "name": "stderr",
     "output_type": "stream",
     "text": [
      "/usr/lib/python2.7/dist-packages/numpy/core/numeric.py:301: FutureWarning: in the future, full((1, 28977), 1) will return an array of dtype('int64')\n",
      "  format(shape, fill_value, array(fill_value).dtype), FutureWarning)\n"
     ]
    },
    {
     "name": "stdout",
     "output_type": "stream",
     "text": [
      "(30796, 2)\n",
      "(117841, 3)\n",
      "(28516, 2)\n",
      "(119602, 3)\n"
     ]
    },
    {
     "name": "stderr",
     "output_type": "stream",
     "text": [
      "/usr/lib/python2.7/dist-packages/numpy/core/numeric.py:301: FutureWarning: in the future, full((1, 28516), 1) will return an array of dtype('int64')\n",
      "  format(shape, fill_value, array(fill_value).dtype), FutureWarning)\n"
     ]
    },
    {
     "name": "stdout",
     "output_type": "stream",
     "text": [
      "(30715, 2)\n",
      "(120067, 3)\n",
      "(29892, 2)\n",
      "(118846, 3)\n",
      "(28562, 2)\n",
      "(117841, 3)\n",
      "(28516, 2)\n",
      "(115777, 3)\n"
     ]
    },
    {
     "name": "stderr",
     "output_type": "stream",
     "text": [
      "/usr/lib/python2.7/dist-packages/numpy/core/numeric.py:301: FutureWarning: in the future, full((1, 28676), 1) will return an array of dtype('int64')\n",
      "  format(shape, fill_value, array(fill_value).dtype), FutureWarning)\n"
     ]
    },
    {
     "name": "stdout",
     "output_type": "stream",
     "text": [
      "(28676, 2)\n",
      "(117093, 3)\n",
      "(29000, 2)\n",
      "(116104, 3)\n",
      "(28638, 2)\n",
      "(115750, 3)\n",
      "(28154, 2)\n",
      "(115623, 3)\n",
      "(27910, 2)\n",
      "(115743, 3)\n",
      "(27879, 2)\n",
      "(115839, 3)\n",
      "(27956, 2)\n",
      "(123397, 3)\n",
      "(32005, 2)\n",
      "(123683, 3)\n",
      "(32050, 2)\n",
      "(123783, 3)\n",
      "(32088, 2)\n",
      "(123699, 3)\n",
      "(32162, 2)\n",
      "(123586, 3)\n",
      "(32099, 2)\n",
      "(123388, 3)\n",
      "(32052, 2)\n",
      "(123367, 3)\n",
      "(32058, 2)\n",
      "(122996, 3)\n",
      "(32024, 2)\n",
      "(123411, 3)\n",
      "(32060, 2)\n",
      "(123257, 3)\n",
      "(32023, 2)\n",
      "(123223, 3)\n",
      "(31965, 2)\n",
      "(123316, 3)\n",
      "(31964, 2)\n",
      "(123343, 3)\n",
      "(32017, 2)\n",
      "(123103, 3)\n",
      "(32021, 2)\n",
      "(123129, 3)\n",
      "(32052, 2)\n",
      "(122753, 3)\n",
      "(31987, 2)\n",
      "(122477, 3)\n",
      "(32030, 2)\n",
      "(122321, 3)\n",
      "(31999, 2)\n",
      "(122309, 3)\n",
      "(31996, 2)\n",
      "(122430, 3)\n",
      "(31995, 2)\n",
      "(122527, 3)\n",
      "(32038, 2)\n",
      "(122658, 3)\n",
      "(32107, 2)\n",
      "(122645, 3)\n",
      "(32092, 2)\n",
      "(122723, 3)\n",
      "(32131, 2)\n",
      "(122703, 3)\n",
      "(32062, 2)\n",
      "(122873, 3)\n",
      "(32105, 2)\n",
      "(122377, 3)\n",
      "(31718, 2)\n",
      "(122952, 3)\n",
      "(32052, 2)\n",
      "(122705, 3)\n",
      "(32007, 2)\n",
      "(122691, 3)\n",
      "(31981, 2)\n",
      "(122665, 3)\n",
      "(31996, 2)\n",
      "(122610, 3)\n",
      "(31978, 2)\n",
      "(122481, 3)\n",
      "(31933, 2)\n",
      "(122476, 3)\n",
      "(31923, 2)\n",
      "(122467, 3)\n",
      "(31888, 2)\n",
      "(122545, 3)\n"
     ]
    },
    {
     "name": "stderr",
     "output_type": "stream",
     "text": [
      "/usr/lib/python2.7/dist-packages/numpy/core/numeric.py:301: FutureWarning: in the future, full((1, 31866), 1) will return an array of dtype('int64')\n",
      "  format(shape, fill_value, array(fill_value).dtype), FutureWarning)\n"
     ]
    },
    {
     "name": "stdout",
     "output_type": "stream",
     "text": [
      "(31866, 2)\n",
      "(122499, 3)\n",
      "(31795, 2)\n",
      "(122648, 3)\n",
      "(31744, 2)\n",
      "(123078, 3)\n",
      "(31822, 2)\n",
      "(123087, 3)\n"
     ]
    },
    {
     "name": "stderr",
     "output_type": "stream",
     "text": [
      "/usr/lib/python2.7/dist-packages/numpy/core/numeric.py:301: FutureWarning: in the future, full((1, 31822), 1) will return an array of dtype('int64')\n",
      "  format(shape, fill_value, array(fill_value).dtype), FutureWarning)\n"
     ]
    },
    {
     "name": "stdout",
     "output_type": "stream",
     "text": [
      "(31757, 2)\n",
      "(123236, 3)\n",
      "(31770, 2)\n",
      "(122805, 3)\n",
      "(31809, 2)\n",
      "(122834, 3)\n",
      "(31858, 2)\n",
      "(122836, 3)\n",
      "(31865, 2)\n",
      "(123246, 3)\n",
      "(31967, 2)\n",
      "(123072, 3)\n",
      "(31901, 2)\n",
      "(123138, 3)\n",
      "(31965, 2)\n",
      "(123357, 3)\n",
      "(31954, 2)\n",
      "(123709, 3)\n",
      "(31913, 2)\n",
      "(124095, 3)\n",
      "(31860, 2)\n",
      "(124122, 3)\n",
      "(31884, 2)\n",
      "(124048, 3)\n",
      "(31843, 2)\n",
      "(123902, 3)\n",
      "(31757, 2)\n",
      "(123801, 3)\n",
      "(31730, 2)\n",
      "(123660, 3)\n",
      "(31584, 2)\n",
      "(123871, 3)\n",
      "(31433, 2)\n",
      "(123838, 3)\n",
      "(31379, 2)\n",
      "(123996, 3)\n",
      "(31335, 2)\n",
      "(123983, 3)\n",
      "(31254, 2)\n",
      "(123749, 3)\n"
     ]
    },
    {
     "name": "stderr",
     "output_type": "stream",
     "text": [
      "/usr/lib/python2.7/dist-packages/numpy/core/numeric.py:301: FutureWarning: in the future, full((1, 31184), 1) will return an array of dtype('int64')\n",
      "  format(shape, fill_value, array(fill_value).dtype), FutureWarning)\n"
     ]
    },
    {
     "name": "stdout",
     "output_type": "stream",
     "text": [
      "(31184, 2)\n",
      "(123659, 3)\n",
      "(31067, 2)\n",
      "(123467, 3)\n",
      "(30895, 2)\n",
      "(123409, 3)\n",
      "(30817, 2)\n",
      "(123158, 3)\n",
      "(30682, 2)\n",
      "(123008, 3)\n",
      "(30483, 2)\n",
      "(122813, 3)\n",
      "(30411, 2)\n",
      "(122624, 3)\n",
      "(30391, 2)\n",
      "(122319, 3)\n"
     ]
    },
    {
     "name": "stderr",
     "output_type": "stream",
     "text": [
      "/usr/lib/python2.7/dist-packages/numpy/core/numeric.py:301: FutureWarning: in the future, full((1, 30391), 1) will return an array of dtype('int64')\n",
      "  format(shape, fill_value, array(fill_value).dtype), FutureWarning)\n"
     ]
    },
    {
     "name": "stdout",
     "output_type": "stream",
     "text": [
      "(30249, 2)\n",
      "(122125, 3)\n",
      "(30116, 2)\n",
      "(121519, 3)\n"
     ]
    },
    {
     "name": "stderr",
     "output_type": "stream",
     "text": [
      "/usr/lib/python2.7/dist-packages/numpy/core/numeric.py:301: FutureWarning: in the future, full((1, 30116), 1) will return an array of dtype('int64')\n",
      "  format(shape, fill_value, array(fill_value).dtype), FutureWarning)\n"
     ]
    },
    {
     "name": "stdout",
     "output_type": "stream",
     "text": [
      "(30097, 2)\n",
      "(121178, 3)\n",
      "(30313, 2)\n",
      "(121210, 3)\n"
     ]
    },
    {
     "name": "stderr",
     "output_type": "stream",
     "text": [
      "/usr/lib/python2.7/dist-packages/numpy/core/numeric.py:301: FutureWarning: in the future, full((1, 30313), 1) will return an array of dtype('int64')\n",
      "  format(shape, fill_value, array(fill_value).dtype), FutureWarning)\n"
     ]
    },
    {
     "name": "stdout",
     "output_type": "stream",
     "text": [
      "(30442, 2)\n",
      "(120825, 3)\n",
      "(31100, 2)\n",
      "(120989, 3)\n",
      "(31123, 2)\n",
      "(121283, 3)\n",
      "(30959, 2)\n",
      "(121656, 3)\n"
     ]
    },
    {
     "name": "stderr",
     "output_type": "stream",
     "text": [
      "/usr/lib/python2.7/dist-packages/numpy/core/numeric.py:301: FutureWarning: in the future, full((1, 30821), 1) will return an array of dtype('int64')\n",
      "  format(shape, fill_value, array(fill_value).dtype), FutureWarning)\n"
     ]
    },
    {
     "name": "stdout",
     "output_type": "stream",
     "text": [
      "(30821, 2)\n",
      "(121691, 3)\n",
      "(30485, 2)\n",
      "(121723, 3)\n"
     ]
    },
    {
     "name": "stderr",
     "output_type": "stream",
     "text": [
      "/usr/lib/python2.7/dist-packages/numpy/core/numeric.py:301: FutureWarning: in the future, full((1, 30585), 1) will return an array of dtype('int64')\n",
      "  format(shape, fill_value, array(fill_value).dtype), FutureWarning)\n",
      "/usr/lib/python2.7/dist-packages/numpy/core/numeric.py:301: FutureWarning: in the future, full((1, 30716), 1) will return an array of dtype('int64')\n",
      "  format(shape, fill_value, array(fill_value).dtype), FutureWarning)\n"
     ]
    },
    {
     "name": "stdout",
     "output_type": "stream",
     "text": [
      "(30585, 2)\n",
      "(120943, 3)\n",
      "(30716, 2)\n",
      "(120271, 3)\n",
      "(30959, 2)\n",
      "(120052, 3)\n",
      "(31127, 2)\n",
      "(118950, 3)\n",
      "(31252, 2)\n",
      "(118572, 3)\n",
      "(31214, 2)\n",
      "(118451, 3)\n",
      "(31202, 2)\n",
      "(118494, 3)\n",
      "(31109, 2)\n",
      "(118930, 3)\n",
      "(30986, 2)\n",
      "(119092, 3)\n",
      "(30902, 2)\n",
      "(119349, 3)\n",
      "(30796, 2)\n",
      "(119418, 3)\n",
      "(28977, 2)\n",
      "(119602, 3)\n",
      "(30715, 2)\n",
      "(118423, 3)\n",
      "(28416, 2)\n",
      "(119828, 3)\n",
      "(30575, 2)\n",
      "(120067, 3)\n",
      "(29892, 2)\n",
      "(119418, 3)\n",
      "(28977, 2)\n",
      "(117841, 3)\n",
      "(28516, 2)\n",
      "(117093, 3)\n",
      "(29000, 2)\n",
      "(116104, 3)\n",
      "(28638, 2)\n",
      "(115750, 3)\n",
      "(28154, 2)\n",
      "(115623, 3)\n",
      "(27910, 2)\n",
      "(115743, 3)\n",
      "(27879, 2)\n",
      "(115839, 3)\n",
      "(27956, 2)\n",
      "(115781, 3)\n",
      "(28191, 2)\n",
      "(115777, 3)\n",
      "(28676, 2)\n",
      "(115548, 3)\n"
     ]
    },
    {
     "name": "stderr",
     "output_type": "stream",
     "text": [
      "/usr/lib/python2.7/dist-packages/numpy/core/numeric.py:301: FutureWarning: in the future, full((1, 28704), 1) will return an array of dtype('int64')\n",
      "  format(shape, fill_value, array(fill_value).dtype), FutureWarning)\n"
     ]
    },
    {
     "name": "stdout",
     "output_type": "stream",
     "text": [
      "(28704, 2)\n",
      "(123397, 3)\n",
      "(32005, 2)\n",
      "(123683, 3)\n",
      "(32050, 2)\n",
      "(123783, 3)\n",
      "(32088, 2)\n",
      "(123699, 3)\n",
      "(32162, 2)\n",
      "(123586, 3)\n",
      "(32099, 2)\n",
      "(123388, 3)\n",
      "(32052, 2)\n",
      "(123367, 3)\n",
      "(32058, 2)\n",
      "(122996, 3)\n",
      "(32024, 2)\n",
      "(123411, 3)\n",
      "(32060, 2)\n",
      "(123257, 3)\n",
      "(32023, 2)\n",
      "(123223, 3)\n",
      "(31965, 2)\n",
      "(123334, 3)\n",
      "(31978, 2)\n",
      "(123316, 3)\n",
      "(31964, 2)\n",
      "(123150, 3)\n",
      "(31995, 2)\n",
      "(123129, 3)\n",
      "(32052, 2)\n",
      "(123001, 3)\n",
      "(32053, 2)\n",
      "(122634, 3)\n",
      "(31978, 2)\n",
      "(122321, 3)\n",
      "(31999, 2)\n",
      "(122242, 3)\n",
      "(31953, 2)\n",
      "(122430, 3)\n",
      "(31995, 2)\n",
      "(122527, 3)\n",
      "(32038, 2)\n",
      "(122727, 3)\n",
      "(32087, 2)\n",
      "(122645, 3)\n",
      "(32092, 2)\n",
      "(122723, 3)\n",
      "(32131, 2)\n",
      "(122703, 3)\n",
      "(32062, 2)\n",
      "(122873, 3)\n",
      "(32105, 2)\n",
      "(122377, 3)\n",
      "(31718, 2)\n",
      "(122838, 3)\n",
      "(32060, 2)\n",
      "(122705, 3)\n",
      "(32007, 2)\n",
      "(122490, 3)\n",
      "(31978, 2)\n",
      "(122578, 3)\n",
      "(32022, 2)\n",
      "(122610, 3)\n",
      "(31978, 2)\n",
      "(122426, 3)\n",
      "(31877, 2)\n",
      "(122467, 3)\n",
      "(31888, 2)\n",
      "(122545, 3)\n",
      "(31866, 2)\n",
      "(122595, 3)\n",
      "(31820, 2)\n",
      "(122648, 3)\n",
      "(31744, 2)\n",
      "(122882, 3)\n",
      "(31789, 2)\n",
      "(123078, 3)\n",
      "(31822, 2)\n",
      "(123087, 3)\n",
      "(31757, 2)\n",
      "(122942, 3)\n",
      "(31773, 2)\n",
      "(122805, 3)\n",
      "(31809, 2)\n",
      "(122803, 3)\n",
      "(31847, 2)\n",
      "(123113, 3)\n",
      "(31933, 2)\n",
      "(123246, 3)\n",
      "(31967, 2)\n",
      "(123178, 3)\n",
      "(31969, 2)\n",
      "(123357, 3)\n",
      "(31954, 2)\n",
      "(123557, 3)\n",
      "(31943, 2)\n",
      "(123772, 3)\n"
     ]
    },
    {
     "name": "stderr",
     "output_type": "stream",
     "text": [
      "/usr/lib/python2.7/dist-packages/numpy/core/numeric.py:301: FutureWarning: in the future, full((1, 31943), 1) will return an array of dtype('int64')\n",
      "  format(shape, fill_value, array(fill_value).dtype), FutureWarning)\n"
     ]
    },
    {
     "name": "stdout",
     "output_type": "stream",
     "text": [
      "(31883, 2)\n",
      "(124122, 3)\n",
      "(31884, 2)\n",
      "(124048, 3)\n",
      "(31843, 2)\n",
      "(123902, 3)\n",
      "(31757, 2)\n",
      "(123801, 3)\n",
      "(31730, 2)\n",
      "(123704, 3)\n",
      "(31500, 2)\n",
      "(123871, 3)\n",
      "(31433, 2)\n",
      "(123838, 3)\n",
      "(31379, 2)\n",
      "(123925, 3)\n",
      "(31245, 2)\n",
      "(123983, 3)\n",
      "(31254, 2)\n",
      "(123526, 3)\n",
      "(31108, 2)\n",
      "(123460, 3)\n",
      "(30971, 2)\n",
      "(123467, 3)\n"
     ]
    },
    {
     "name": "stderr",
     "output_type": "stream",
     "text": [
      "/usr/lib/python2.7/dist-packages/numpy/core/numeric.py:301: FutureWarning: in the future, full((1, 30971), 1) will return an array of dtype('int64')\n",
      "  format(shape, fill_value, array(fill_value).dtype), FutureWarning)\n"
     ]
    },
    {
     "name": "stdout",
     "output_type": "stream",
     "text": [
      "(30895, 2)\n",
      "(123208, 3)\n",
      "(30713, 2)\n",
      "(123008, 3)\n"
     ]
    },
    {
     "name": "stderr",
     "output_type": "stream",
     "text": [
      "/usr/lib/python2.7/dist-packages/numpy/core/numeric.py:301: FutureWarning: in the future, full((1, 30713), 1) will return an array of dtype('int64')\n",
      "  format(shape, fill_value, array(fill_value).dtype), FutureWarning)\n"
     ]
    },
    {
     "name": "stdout",
     "output_type": "stream",
     "text": [
      "(30483, 2)\n",
      "(122898, 3)\n",
      "(30483, 2)\n",
      "(122624, 3)\n",
      "(30391, 2)\n",
      "(122319, 3)\n",
      "(30249, 2)\n",
      "(122125, 3)\n",
      "(30116, 2)\n",
      "(121519, 3)\n",
      "(30097, 2)\n",
      "(121178, 3)\n",
      "(30313, 2)\n",
      "(121210, 3)\n",
      "(30442, 2)\n",
      "(120825, 3)\n",
      "(31100, 2)\n",
      "(120989, 3)\n",
      "(31123, 2)\n",
      "(121283, 3)\n",
      "(30959, 2)\n",
      "(121649, 3)\n",
      "(30623, 2)\n",
      "(121691, 3)\n",
      "(30485, 2)\n",
      "(121482, 3)\n",
      "(30643, 2)\n",
      "(120873, 3)\n",
      "(30807, 2)\n",
      "(120271, 3)\n",
      "(30959, 2)\n",
      "(119588, 3)\n",
      "(31242, 2)\n",
      "(118572, 3)\n",
      "(31214, 2)\n",
      "(120049, 3)\n",
      "(30523, 2)\n",
      "(118371, 3)\n",
      "(31216, 2)\n",
      "(120163, 3)\n",
      "(30400, 2)\n",
      "(118451, 3)\n",
      "(31202, 2)\n",
      "(120212, 3)\n",
      "(30221, 2)\n",
      "(118494, 3)\n",
      "(31109, 2)\n",
      "(119597, 3)\n",
      "(29365, 2)\n",
      "(118765, 3)\n",
      "(31016, 2)\n",
      "(118846, 3)\n",
      "(28562, 2)\n",
      "(118930, 3)\n",
      "(30986, 2)\n",
      "(118423, 3)\n",
      "(28416, 2)\n",
      "(119092, 3)\n",
      "(30902, 2)\n"
     ]
    }
   ],
   "source": [
    "#subscribe all needed topics\n",
    "\n",
    "\n",
    "\n",
    "R= np.array([[7.533745e-03, -9.999714e-01, -6.166020e-04], \n",
    "            [1.480249e-02, 7.280733e-04, -9.998902e-01],\n",
    "            [9.998621e-01, 7.523790e-03, 1.480755e-02]])\n",
    "T= np.array([[-4.069766e-03],\n",
    "            [-7.631618e-02],\n",
    "            [-2.717806e-01]])\n",
    "\n",
    "image_pub = rospy.Publisher(\"projected_image\",Image)\n",
    "def callback(l_image, camera_info, lidar):\n",
    "        global image_pub\n",
    "        global P\n",
    "        try:    \n",
    "            bridge = CvBridge()\n",
    "            cv_image = bridge.imgmsg_to_cv2(l_image, \"bgr8\")\n",
    "            points = pointclouds.pointcloud2_to_xyz_array(lidar)\n",
    "        except CvBridgeError as e:\n",
    "            print(e)\n",
    "        \n",
    "        \n",
    "        \n",
    "        print points.shape\n",
    "        \n",
    "        P = np.array((camera_info.P))\n",
    "        P = P.reshape((3,4))\n",
    "        P = P[:3, :3] #erase fourth column\n",
    "        ans, c_ = velo3d_2_camera2d_points(points, v_fov=(-24.9, 2.0), h_fov=(-45,45), \\\n",
    "                               vc_path=[R,T], cc_path=P, mode='02')\n",
    "        projected_image = print_projection_plt(points=ans, color=c_, image=cv_image)\n",
    "        image_pub.publish(bridge.cv2_to_imgmsg(projected_image, \"bgr8\"))\n",
    "        print (len(c_),len(ans))\n",
    "\n",
    "\n",
    "def listener():\n",
    "        rospy.init_node('listener')\n",
    "        print \"loop1\"\n",
    "        l_image = message_filters.Subscriber(\"/kitti/camera_color_left/image_raw\", Image )\n",
    "        camera_info = message_filters.Subscriber(\"/kitti/camera_gray_left/camera_info\", CameraInfo)\n",
    "        lidar = message_filters.Subscriber(\"/kitti/velo/pointcloud\", PointCloud2)\n",
    "        ts = message_filters.ApproximateTimeSynchronizer([l_image, camera_info, lidar], 10, 0.1)\n",
    "        ts.registerCallback(callback)\n",
    "#         print \"loop1\"\n",
    "        rospy.spin()\n",
    "\n",
    "if __name__ == '__main__':\n",
    "        listener()\n"
   ]
  },
  {
   "cell_type": "code",
   "execution_count": 11,
   "metadata": {},
   "outputs": [
    {
     "data": {
      "text/plain": [
       "(3, 4)"
      ]
     },
     "execution_count": 11,
     "metadata": {},
     "output_type": "execute_result"
    }
   ],
   "source": [
    "P.shape"
   ]
  },
  {
   "cell_type": "code",
   "execution_count": 2,
   "metadata": {},
   "outputs": [],
   "source": [
    "\"\"\"\n",
    "header: \n",
    "  seq: 0\n",
    "  stamp: \n",
    "    secs: 1317022472\n",
    "    nsecs: 351949930\n",
    "  frame_id: \"camera_gray_left\"\n",
    "height: 1242\n",
    "width: 375\n",
    "distortion_model: \"plumb_bob\"\n",
    "D: [-0.3728755, 0.2037299, 0.002219027, 0.001383707, -0.07233722]\n",
    "K: [984.2439, 0.0, 690.0, 0.0, 980.8141, 233.1966, 0.0, 0.0, 1.0]\n",
    "R: [0.9999239, 0.00983776, -0.007445048, -0.009869795, 0.9999421, -0.004278459, 0.007402527, 0.004351614, 0.9999631]\n",
    "P: [721.5377, 0.0, 609.5593, 0.0, 0.0, 721.5377, 172.854, 0.0, 0.0, 0.0, 1.0, 0.0]\n",
    "binning_x: 0\n",
    "binning_y: 0\n",
    "roi:\n",
    "  x_offset: 0\n",
    "  y_offset: 0\n",
    "  height: 0\n",
    "  width: 0\n",
    "  do_rectify: False\n",
    "\"\"\""
   ]
  }
 ],
 "metadata": {
  "kernelspec": {
   "display_name": "Python 2",
   "language": "python",
   "name": "python2"
  },
  "language_info": {
   "codemirror_mode": {
    "name": "ipython",
    "version": 2
   },
   "file_extension": ".py",
   "mimetype": "text/x-python",
   "name": "python",
   "nbconvert_exporter": "python",
   "pygments_lexer": "ipython2",
   "version": "2.7.12"
  }
 },
 "nbformat": 4,
 "nbformat_minor": 2
}
